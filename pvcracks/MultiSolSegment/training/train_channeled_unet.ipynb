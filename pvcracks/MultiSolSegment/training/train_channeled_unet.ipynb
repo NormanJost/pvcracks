{
 "cells": [
  {
   "cell_type": "code",
   "execution_count": null,
   "id": "2953166f-9996-4024-82e6-24ddf3effbfd",
   "metadata": {},
   "outputs": [],
   "source": [
    "import torch\n",
    "from torch.utils.data import DataLoader\n",
    "from torch.optim import Adam\n",
    "\n",
    "import numpy as np\n",
    "import os\n",
    "import json\n",
    "\n",
    "import matplotlib.pyplot as plt\n",
    "from tqdm import tqdm\n",
    "\n",
    "from utils import train_functions, viz_functions"
   ]
  },
  {
   "cell_type": "code",
   "execution_count": null,
   "id": "251c8172",
   "metadata": {},
   "outputs": [],
   "source": [
    "root = \"/Users/ojas/Desktop/saj/SANDIA/pvcracks_data/Channeled_Combined_CWRU_LBNL_ASU_No_Empty/\"\n",
    "\n",
    "weight_path = \"/Users/ojas/Desktop/saj/SANDIA/pvcracks_data/pv-vision_model.pt\"\n",
    "\n",
    "checkpoint_name = root.split(\"/\")[-2] + \"utilstest\""
   ]
  },
  {
   "cell_type": "code",
   "execution_count": null,
   "id": "a8b87524",
   "metadata": {},
   "outputs": [],
   "source": [
    "category_mapping = {0: \"dark\", 1: \"busbar\", 2: \"crack\", 3: \"non-cell\"}"
   ]
  },
  {
   "cell_type": "code",
   "execution_count": null,
   "id": "6eab99a6",
   "metadata": {},
   "outputs": [],
   "source": [
    "train_dataset, val_dataset = train_functions.load_dataset(root)\n",
    "device, model = train_functions.load_device_and_model(category_mapping)"
   ]
  },
  {
   "cell_type": "markdown",
   "id": "d59f2288",
   "metadata": {},
   "source": [
    "# Training"
   ]
  },
  {
   "cell_type": "code",
   "execution_count": null,
   "id": "74bb9672-cea1-4261-86df-cc67308fc5f7",
   "metadata": {},
   "outputs": [],
   "source": [
    "batch_size_val = 1\n",
    "batch_size_train = 1\n",
    "lr = 1e-4\n",
    "step_size = 1\n",
    "gamma = 0.1\n",
    "num_epochs = 1\n",
    "criterion = torch.nn.BCEWithLogitsLoss()\n",
    "\n",
    "save_dir = train_functions.get_save_dir(str(root), checkpoint_name)\n",
    "os.makedirs(save_dir, exist_ok=True)\n",
    "\n",
    "params_dict = {\n",
    "    \"batch_size_val\": batch_size_val,\n",
    "    \"batch_size_train\": batch_size_train,\n",
    "    \"lr\": lr,\n",
    "    \"step_size\": step_size,\n",
    "    \"gamma\": gamma,\n",
    "    \"num_epochs\": num_epochs,\n",
    "    \"criterion\": str(criterion),\n",
    "}\n",
    "\n",
    "with open(os.path.join(save_dir, \"params.json\"), \"w\", encoding=\"utf-8\") as f:\n",
    "    json.dump(params_dict, f, ensure_ascii=False, indent=4)"
   ]
  },
  {
   "cell_type": "code",
   "execution_count": null,
   "id": "3ceacb42",
   "metadata": {},
   "outputs": [],
   "source": [
    "train_loader = DataLoader(train_dataset, batch_size=batch_size_train, shuffle=True)\n",
    "val_loader = DataLoader(val_dataset, batch_size=batch_size_val, shuffle=False)"
   ]
  },
  {
   "cell_type": "code",
   "execution_count": null,
   "id": "899b8831-e729-42c3-9eae-703af3d3001d",
   "metadata": {},
   "outputs": [],
   "source": [
    "optimizer = Adam(model.parameters(), lr=lr)\n",
    "evaluate_metric = None\n",
    "running_record = {\"train\": {\"loss\": []}, \"val\": {\"loss\": []}}\n",
    "\n",
    "save_name = \"model.pt\"\n",
    "cache_output = True"
   ]
  },
  {
   "cell_type": "code",
   "execution_count": null,
   "id": "a0b5a33b-f614-4c09-af94-1ab3de3f189d",
   "metadata": {
    "scrolled": true,
    "tags": []
   },
   "outputs": [],
   "source": [
    "training_epoch_loss = []\n",
    "val_epoch_loss = []\n",
    "\n",
    "for epoch in tqdm(range(1, num_epochs + 1)):\n",
    "    training_step_loss = []\n",
    "\n",
    "    for batch_idx, (data, target) in enumerate(train_loader):\n",
    "        data, target = data.to(device), target.to(device)\n",
    "        target = target.float()\n",
    "\n",
    "        optimizer.zero_grad()\n",
    "\n",
    "        # forward pass\n",
    "        output = model(data)\n",
    "\n",
    "        # calc loss -- bce with logits loss applies sigmoid interally\n",
    "        training_loss = criterion(output, target)\n",
    "\n",
    "        # backward pass\n",
    "        training_loss.backward()\n",
    "        optimizer.step()\n",
    "\n",
    "        # record loss\n",
    "        training_step_loss.append(training_loss.item())\n",
    "\n",
    "    training_epoch_loss.append(np.array(training_step_loss).mean())\n",
    "\n",
    "    val_step_loss = []\n",
    "\n",
    "    for batch_idx, (data, target) in enumerate(val_loader):\n",
    "        data, target = data.to(device), target.to(device)\n",
    "        target = target.float()\n",
    "\n",
    "        # forward pass\n",
    "        data = data.to(device)\n",
    "\n",
    "        output = model(data)\n",
    "\n",
    "        # calc loss -- bce with logits loss applies sigmoid interally\n",
    "        val_loss = criterion(output, target)\n",
    "\n",
    "        val_step_loss.append(val_loss.item())\n",
    "\n",
    "    val_epoch_loss.append(np.array(val_step_loss).mean())\n",
    "\n",
    "    os.makedirs(os.path.join(save_dir, f\"epoch_{epoch}\"), exist_ok=True)\n",
    "    torch.save(model.state_dict(), os.path.join(save_dir, f\"epoch_{epoch}\", save_name))\n",
    "    print(f\"Saved model at epoch {epoch}\")"
   ]
  },
  {
   "cell_type": "code",
   "execution_count": null,
   "id": "4951b028",
   "metadata": {},
   "outputs": [],
   "source": [
    "viz_functions.channeled_inference_and_show(\n",
    "    train_loader, device, model, category_mapping, -32\n",
    ")"
   ]
  },
  {
   "cell_type": "code",
   "execution_count": null,
   "id": "0db3cb2c",
   "metadata": {},
   "outputs": [],
   "source": [
    "viz_functions.channeled_inference_and_show(\n",
    "    train_loader, device, model, category_mapping, 13\n",
    ")"
   ]
  },
  {
   "cell_type": "code",
   "execution_count": null,
   "id": "d32576c8",
   "metadata": {},
   "outputs": [],
   "source": [
    "viz_functions.channeled_inference_and_show(\n",
    "    train_loader, device, model, category_mapping, 44\n",
    ")"
   ]
  },
  {
   "cell_type": "code",
   "execution_count": null,
   "id": "3d6c084f",
   "metadata": {},
   "outputs": [],
   "source": [
    "viz_functions.channeled_inference_and_show(\n",
    "    train_loader, device, model, category_mapping, 1\n",
    ")"
   ]
  },
  {
   "cell_type": "code",
   "execution_count": null,
   "id": "8933f766",
   "metadata": {},
   "outputs": [],
   "source": [
    "viz_functions.channeled_inference_and_show(\n",
    "    train_loader, device, model, category_mapping, 6\n",
    ")"
   ]
  },
  {
   "cell_type": "code",
   "execution_count": null,
   "id": "05de89ce",
   "metadata": {},
   "outputs": [],
   "source": [
    "# for i in range(100):\n",
    "#     viz_functions.channeled_inference_and_show(train_loader, device, model, category_mapping, i)"
   ]
  },
  {
   "cell_type": "code",
   "execution_count": null,
   "id": "4e4a9bfe-7b09-4a7a-8718-fc779cb8b234",
   "metadata": {},
   "outputs": [],
   "source": [
    "fig, ax = plt.subplots()\n",
    "\n",
    "x = np.arange(1, len(training_epoch_loss) + 1, 1)\n",
    "\n",
    "ax.scatter(x, training_epoch_loss, label=\"training loss\")\n",
    "ax.scatter(x, val_epoch_loss, label=\"validation loss\")\n",
    "ax.legend()\n",
    "ax.set_xlabel(\"Epoch\")\n",
    "\n",
    "print(training_epoch_loss)"
   ]
  },
  {
   "cell_type": "code",
   "execution_count": null,
   "id": "4646dffc",
   "metadata": {},
   "outputs": [],
   "source": [
    "val_epoch_loss"
   ]
  }
 ],
 "metadata": {
  "kernelspec": {
   "display_name": "pvcracks (3.12.9)",
   "language": "python",
   "name": "python3"
  },
  "language_info": {
   "codemirror_mode": {
    "name": "ipython",
    "version": 3
   },
   "file_extension": ".py",
   "mimetype": "text/x-python",
   "name": "python",
   "nbconvert_exporter": "python",
   "pygments_lexer": "ipython3",
   "version": "3.12.9"
  }
 },
 "nbformat": 4,
 "nbformat_minor": 5
}
