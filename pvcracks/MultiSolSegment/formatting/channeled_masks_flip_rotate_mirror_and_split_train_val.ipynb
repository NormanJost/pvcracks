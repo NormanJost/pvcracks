{
 "cells": [
  {
   "cell_type": "markdown",
   "id": "ff1652df",
   "metadata": {},
   "source": [
    "# Intro\n",
    "\n",
    "First, to augment the dataset, we take each image and flip it along the x axis; the y axis; and both.\n",
    "\n",
    "Then, we split it into train/val/test sets"
   ]
  },
  {
   "cell_type": "code",
   "execution_count": null,
   "id": "fced31c7",
   "metadata": {},
   "outputs": [],
   "source": [
    "import numpy as np\n",
    "import os\n",
    "import cv2\n",
    "from sklearn.model_selection import train_test_split\n",
    "import matplotlib.pyplot as plt\n",
    "import re\n",
    "from skimage.io import imread"
   ]
  },
  {
   "cell_type": "code",
   "execution_count": null,
   "id": "7522a130",
   "metadata": {},
   "outputs": [],
   "source": [
    "root = \"/Users/ojas/Desktop/saj/SANDIA/pvcracks_data/Channeled_LBNL/\"\n",
    "\n",
    "masks_root_path = root + \"ann/\"\n",
    "images_root_path = root + \"img/\"\n",
    "\n",
    "# image_file_extension = \"tiff\"\n",
    "image_file_extension = \"jpg\""
   ]
  },
  {
   "cell_type": "code",
   "execution_count": null,
   "id": "ca991fbb",
   "metadata": {},
   "outputs": [],
   "source": [
    "category_mapping = {0: \"empty\", 1: \"dark\", 2: \"busbar\", 3: \"crack\", 4: \"non-cell\"}\n",
    "\n",
    "\n",
    "def inference_and_show(img, gt_mask):\n",
    "    fig, ax = plt.subplots(ncols=5, nrows=2, figsize=(10, 10), layout=\"compressed\")\n",
    "\n",
    "    ax[0, 0].imshow(img, cmap=\"gray\", interpolation=\"None\")\n",
    "    ax[0, 0].axis(\"off\")\n",
    "    ax[0, 0].set_title(\"(a) EL image\", fontsize=\"xx-large\")\n",
    "    ##\n",
    "    for i in range(5):\n",
    "        ax[1, i].imshow(gt_mask[i], cmap=\"viridis\", interpolation=\"None\")\n",
    "        ax[1, i].axis(\"off\")\n",
    "        ax[1, i].set_title(f\"({i}) {category_mapping[i]} activation\")"
   ]
  },
  {
   "cell_type": "markdown",
   "id": "7c58699b",
   "metadata": {},
   "source": [
    "---\n",
    "\n",
    "## flip, rotate, mirror"
   ]
  },
  {
   "cell_type": "code",
   "execution_count": null,
   "id": "24df83f1",
   "metadata": {},
   "outputs": [],
   "source": [
    "def flip_my_mask(mask, flip_dir):\n",
    "    channels = []\n",
    "    for c in range(mask.shape[0]):\n",
    "        channel = mask[c]\n",
    "        flipped_channel = np.flip(channel, flip_dir)\n",
    "        channels.append(flipped_channel)\n",
    "    flipped_mask = np.stack(channels, axis=0)\n",
    "    return flipped_mask"
   ]
  },
  {
   "cell_type": "code",
   "execution_count": null,
   "id": "48c0c05f",
   "metadata": {},
   "outputs": [],
   "source": [
    "mask_load_path = masks_root_path + \"channeled/\"\n",
    "\n",
    "for mask_name in [c for c in os.listdir(mask_load_path)]:\n",
    "    mask_path = mask_load_path + mask_name\n",
    "    loaded_mask = np.load(mask_path, allow_pickle=True)\n",
    "\n",
    "    # mask_name\n",
    "    np.save(masks_root_path + \"all/\" + mask_name, loaded_mask)\n",
    "\n",
    "    # mirror_y\n",
    "    mirror_y = flip_my_mask(loaded_mask, 1)\n",
    "    np.save(masks_root_path + \"all/my_\" + mask_name, mirror_y)\n",
    "    np.save(masks_root_path + \"/mirrored_y/my_\" + mask_name, mirror_y)\n",
    "\n",
    "    # mirror_x\n",
    "    mirror_x = flip_my_mask(loaded_mask, 0)\n",
    "    np.save(masks_root_path + \"all/mx_\" + mask_name, mirror_x)\n",
    "    np.save(masks_root_path + \"/mirrored_x/mx_\" + mask_name, mirror_x)\n",
    "\n",
    "    # mirror_xy\n",
    "    mirror_xy = flip_my_mask(mirror_x, 1)\n",
    "    np.save(masks_root_path + \"all/mxy_\" + mask_name, mirror_xy)\n",
    "    np.save(masks_root_path + \"/mirrored_xy/mxy_\" + mask_name, mirror_xy)"
   ]
  },
  {
   "cell_type": "code",
   "execution_count": null,
   "id": "57502ece",
   "metadata": {},
   "outputs": [],
   "source": [
    "image_load_path = images_root_path + \"original/\"\n",
    "\n",
    "for img_name in [c for c in os.listdir(image_load_path)]:\n",
    "    # load_path/ + '1207 - asdasd.jpg' or 'xyz.jpg'\n",
    "    img_path = image_load_path + img_name\n",
    "\n",
    "    if os.path.isdir(img_path):\n",
    "        continue\n",
    "\n",
    "    loaded_img = cv2.imread(img_path)\n",
    "\n",
    "    # img_name\n",
    "    cv2.imwrite(images_root_path + \"all/\" + img_name, loaded_img)\n",
    "\n",
    "    # mirror_y\n",
    "    mirror_y = np.flip(loaded_img, 1)\n",
    "    cv2.imwrite(images_root_path + \"all/my_\" + img_name, mirror_y)\n",
    "    cv2.imwrite(images_root_path + \"/mirrored_y/my_\" + img_name, mirror_y)\n",
    "\n",
    "    # mirror_x\n",
    "    mirror_x = np.flip(loaded_img, 0)\n",
    "    cv2.imwrite(images_root_path + \"all/mx_\" + img_name, mirror_x)\n",
    "    cv2.imwrite(images_root_path + \"/mirrored_x/mx_\" + img_name, mirror_x)\n",
    "\n",
    "    # mirror_xy\n",
    "    mirror_xy = np.flip(mirror_x, 1)\n",
    "    cv2.imwrite(images_root_path + \"all/mxy_\" + img_name, mirror_xy)\n",
    "    cv2.imwrite(images_root_path + \"/mirrored_xy/mxy_\" + img_name, mirror_xy)"
   ]
  },
  {
   "cell_type": "markdown",
   "id": "c25e72a0",
   "metadata": {},
   "source": [
    "---\n",
    "\n",
    "# split "
   ]
  },
  {
   "cell_type": "code",
   "execution_count": null,
   "id": "683b228d",
   "metadata": {},
   "outputs": [],
   "source": [
    "masks_root_path = root + \"ann/all/\"\n",
    "images_root_path = root + \"img/all/\""
   ]
  },
  {
   "cell_type": "code",
   "execution_count": null,
   "id": "b16c7b29",
   "metadata": {},
   "outputs": [],
   "source": [
    "masks = [c for c in os.listdir(masks_root_path)]\n",
    "img_files = [c for c in os.listdir(images_root_path)]\n",
    "\n",
    "masks_train_set, masks_val_set = train_test_split(masks, random_state=42, shuffle=False)\n",
    "img_train_set, img_val_set = train_test_split(img_files, random_state=42, shuffle=False)"
   ]
  },
  {
   "cell_type": "code",
   "execution_count": null,
   "id": "7b7d277a",
   "metadata": {},
   "outputs": [],
   "source": [
    "img_train_dir = root + \"img/train/\"\n",
    "img_val_dir = root + \"img/val/\"\n",
    "\n",
    "ann_train_dir = root + \"ann/train/\"\n",
    "ann_val_dir = root + \"ann/val/\""
   ]
  },
  {
   "cell_type": "code",
   "execution_count": null,
   "id": "f42d9cda",
   "metadata": {},
   "outputs": [],
   "source": [
    "for mask in masks_train_set:\n",
    "    loaded_mask = np.load(masks_root_path + mask)\n",
    "    np.save(ann_train_dir + mask, loaded_mask)\n",
    "\n",
    "    name = mask[0:-4]\n",
    "    name += \".\" + image_file_extension\n",
    "    img = cv2.imread(images_root_path + name)\n",
    "    cv2.imwrite(img_train_dir + name, img)\n",
    "\n",
    "for mask in masks_val_set:\n",
    "    loaded_mask = np.load(masks_root_path + mask)\n",
    "    np.save(ann_val_dir + mask, loaded_mask)\n",
    "\n",
    "    name = mask[0:-4]\n",
    "    name += \".\" + image_file_extension\n",
    "    img = cv2.imread(images_root_path + name)\n",
    "    cv2.imwrite(img_val_dir + name, img)"
   ]
  },
  {
   "cell_type": "markdown",
   "id": "97b95b03",
   "metadata": {},
   "source": [
    "----\n",
    "# confirmation"
   ]
  },
  {
   "cell_type": "markdown",
   "id": "52753818",
   "metadata": {},
   "source": [
    "after rotation and flipping, ensure that all channels of masks were rotated too"
   ]
  },
  {
   "cell_type": "code",
   "execution_count": null,
   "id": "149bc29e",
   "metadata": {},
   "outputs": [],
   "source": [
    "img_folder = root + \"img/all/\"\n",
    "mask_folder = root + \"ann/all/\"\n",
    "\n",
    "files = [c for c in os.listdir(mask_folder)]\n",
    "\n",
    "npy_regex_string = r\"^(.*?)(?=\\.npy)\"\n",
    "\n",
    "n_masks = [re.search(npy_regex_string, f).group(1) for f in files]\n",
    "\n",
    "raw_mask_names = []\n",
    "custom_mask_list = []\n",
    "\n",
    "for mask_name in n_masks:\n",
    "    if not mask_name.startswith(\"m\"):\n",
    "        raw_mask_names.append(mask_name)\n",
    "\n",
    "for raw_mask_name in raw_mask_names:\n",
    "    for additive in [\"my_\", \"mx_\", \"mxy_\"]:\n",
    "        custom_mask_name = f\"{additive}{raw_mask_name}\"\n",
    "        custom_mask_list.append(custom_mask_name)\n",
    "\n",
    "for this_mask in custom_mask_list[0:10]:\n",
    "    mask_path = os.path.join(mask_folder, f\"{this_mask}.npy\")\n",
    "    img_path = os.path.join(img_folder, f\"{this_mask}.{image_file_extension}\")\n",
    "\n",
    "    print(mask_path)\n",
    "    print(img_path)\n",
    "\n",
    "    image = imread(img_path, plugin=\"pil\")\n",
    "    loaded_mask = np.load(mask_path, allow_pickle=True)\n",
    "\n",
    "    inference_and_show(image, loaded_mask)"
   ]
  }
 ],
 "metadata": {
  "kernelspec": {
   "display_name": "pvcracks (3.12.9)",
   "language": "python",
   "name": "python3"
  },
  "language_info": {
   "codemirror_mode": {
    "name": "ipython",
    "version": 3
   },
   "file_extension": ".py",
   "mimetype": "text/x-python",
   "name": "python",
   "nbconvert_exporter": "python",
   "pygments_lexer": "ipython3",
   "version": "3.12.9"
  }
 },
 "nbformat": 4,
 "nbformat_minor": 5
}
