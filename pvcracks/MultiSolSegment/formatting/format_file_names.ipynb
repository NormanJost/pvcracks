{
 "cells": [
  {
   "cell_type": "code",
   "execution_count": 2,
   "id": "35203946-cc82-491f-90ee-dbedb1e8898e",
   "metadata": {},
   "outputs": [],
   "source": [
    "import json\n",
    "import numpy as np\n",
    "import matplotlib.pyplot as plt\n",
    "import zlib, base64\n",
    "from skimage.io import imread\n",
    "import cv2 as cv\n",
    "import os\n",
    "import re\n",
    "import torch\n",
    "import torchvision.transforms.functional as F\n",
    "from PIL import Image\n",
    "from torchvision import transforms\n",
    "from torchvision.utils import draw_segmentation_masks\n",
    "import skimage\n",
    "from skimage import io\n",
    "\n",
    "import itertools"
   ]
  },
  {
   "cell_type": "markdown",
   "id": "013bd861-ae75-4133-ab64-89f1c4e5605e",
   "metadata": {},
   "source": [
    "Somehow some of the files ended up with a .jpg.jpg extension, which is a problem when your approach relies on matching images with targets using an exact filename match..."
   ]
  },
  {
   "cell_type": "code",
   "execution_count": 3,
   "id": "0c4f7a55-12f7-463d-927f-296b82bad00d",
   "metadata": {},
   "outputs": [],
   "source": [
    "split_cracks_path = '/projects/wg-psel-ml/EL_images/eccoope/split_cracks'\n",
    "\n",
    "mask_folder = os.path.join(split_cracks_path, 'ann_json')"
   ]
  },
  {
   "cell_type": "code",
   "execution_count": 5,
   "id": "c21025dd-54f7-4c73-87a2-b2e68f3c2a34",
   "metadata": {},
   "outputs": [],
   "source": [
    "img_folder = os.path.join(split_cracks_path, 'img_cropped', 'original')\n",
    "for c in [c for c in os.listdir(img_folder) if 'jpg.jpg' in c]:\n",
    "    name = re.search(r'(.+)\\.jpg\\.jpg', c).group(1)\n",
    "    os.rename(os.path.join(img_folder, c), \n",
    "              os.path.join(img_folder, name + '.jpg'))"
   ]
  },
  {
   "cell_type": "code",
   "execution_count": 10,
   "id": "3710a073-430f-401f-9293-2026cca8a07a",
   "metadata": {},
   "outputs": [],
   "source": [
    "img_folder = os.path.join(split_cracks_path, 'img_cropped', 'all')\n",
    "for c in [c for c in os.listdir(img_folder) if 'jpg.jpg' in c]:\n",
    "    name = re.search(r'(.+)\\.jpg\\.jpg', c).group(1)\n",
    "    os.rename(os.path.join(img_folder, c), \n",
    "              os.path.join(img_folder, name + '.jpg'))"
   ]
  },
  {
   "cell_type": "code",
   "execution_count": 11,
   "id": "bf0fd26b-11ce-44bb-af8c-f50d5c0321eb",
   "metadata": {},
   "outputs": [],
   "source": [
    "img_folder = os.path.join(split_cracks_path, 'img_cropped', 'mirrored_x')\n",
    "for c in [c for c in os.listdir(img_folder) if 'jpg.jpg' in c]:\n",
    "    name = re.search(r'(.+)\\.jpg\\.jpg', c).group(1)\n",
    "    os.rename(os.path.join(img_folder, c), \n",
    "              os.path.join(img_folder, name + '.jpg'))"
   ]
  },
  {
   "cell_type": "code",
   "execution_count": 12,
   "id": "081fa309-07a4-451b-b37c-a1548dd8d9b3",
   "metadata": {},
   "outputs": [],
   "source": [
    "img_folder = os.path.join(split_cracks_path, 'img_cropped', 'mirrored_xy')\n",
    "for c in [c for c in os.listdir(img_folder) if 'jpg.jpg' in c]:\n",
    "    name = re.search(r'(.+)\\.jpg\\.jpg', c).group(1)\n",
    "    os.rename(os.path.join(img_folder, c), \n",
    "              os.path.join(img_folder, name + '.jpg'))"
   ]
  },
  {
   "cell_type": "code",
   "execution_count": 13,
   "id": "2067ac04-f610-44c4-a5de-b9075c90e2e9",
   "metadata": {},
   "outputs": [],
   "source": [
    "img_folder = os.path.join(split_cracks_path, 'img_cropped', 'mirrored_y')\n",
    "for c in [c for c in os.listdir(img_folder) if 'jpg.jpg' in c]:\n",
    "    name = re.search(r'(.+)\\.jpg\\.jpg', c).group(1)\n",
    "    os.rename(os.path.join(img_folder, c), \n",
    "              os.path.join(img_folder, name + '.jpg'))"
   ]
  },
  {
   "cell_type": "code",
   "execution_count": 9,
   "id": "ed4008a7-f472-4ea5-acf2-ab0b1cd2e110",
   "metadata": {},
   "outputs": [],
   "source": [
    "mask_folder = os.path.join(split_cracks_path, 'ann_json')\n",
    "for c in [c for c in os.listdir(mask_folder) if 'jpg.jpg' in c]:\n",
    "    name = re.search(r'(.+)\\.jpg\\.jpg\\.json', c).group(1)\n",
    "    os.rename(os.path.join(mask_folder, c), \n",
    "              os.path.join(mask_folder, name + '.jpg.json'))"
   ]
  },
  {
   "cell_type": "code",
   "execution_count": 20,
   "id": "0f3841bf-f76c-4b2d-a4e5-4becec2b81a7",
   "metadata": {},
   "outputs": [],
   "source": [
    "for mask in os.listdir(mask_folder):\n",
    "    matched = re.search(r'ASU3_2024-03-06 13_09_01.426_(.+\\.jpg\\.json)', mask)\n",
    "    if matched is None:\n",
    "        continue\n",
    "    else:\n",
    "        name = matched.group(1)\n",
    "        os.rename(os.path.join(mask_folder, mask),\n",
    "                  os.path.join(mask_folder, name))"
   ]
  },
  {
   "cell_type": "code",
   "execution_count": 21,
   "id": "730d386d-d0e7-467e-958c-9559c8b4318f",
   "metadata": {},
   "outputs": [
    {
     "data": {
      "text/plain": [
       "['2_EL_18.09.2023-15-31-57_unknownID_ASU Minisample_SHJ2_94.jpg.json',\n",
       " '1234 - Old TC for PID_Rear_4_Isc (EL Image).jpg.json',\n",
       " '1237 - NICE_SHJ_1_Isc (EL Image).jpg.json',\n",
       " '2_EL_18.09.2023-15-37-22_unknownID_ASU Minisample_SHJ4_100.jpg.json',\n",
       " '3_EL_18.09.2023-14-45-47_unknownID_ASU Minisample_09_51.jpg.json',\n",
       " '1_EL_18.09.2023-14-55-55_unknownID_ASU Minisample_06_62.jpg.json',\n",
       " '2_EL_2x2_NQ-01_20230915_125923.jpg.json',\n",
       " '3_EL_2x2_NQ-04_20230915_130134.jpg.json',\n",
       " '521 - TOPCon_4_rear_post (EL Image).jpg.json',\n",
       " '0_EL_18.09.2023-15-34-42_unknownID_ASU Minisample_SHJ3_97.jpg.json',\n",
       " '-1_EL_18.09.2023-15-53-07_unknownID_ASU Minisample_SHJ8_117.jpg.json',\n",
       " '2_EL_18.09.2023-14-51-50_unknownID_ASU Minisample_05_57.jpg.json',\n",
       " '3_EL_18.09.2023-15-40-40_unknownID_ASU Minisample_SHJ5_103.jpg.json',\n",
       " '1073 - GB Full Cell 2 No Indent initial (EL Image).jpg.json',\n",
       " '1176 - Ea_TC_EVA_1_Isc (EL Image).jpg.json',\n",
       " '1188 - Ea_TC_EVA_Isc (EL Image).jpg.json',\n",
       " '2_EL_18.09.2023-14-55-55_unknownID_ASU Minisample_06_62.jpg.json',\n",
       " '486 - Module 4 (EL Image).jpg.json',\n",
       " '682 - 3_TOPCon_3_rear (EL Image).jpg.json',\n",
       " '0_EL_2x2_NQ-01_20230915_125923.jpg.json',\n",
       " '799 - 3_TOPCon_2_front_post (EL Image).jpg.json',\n",
       " '1152 - Ea_SHJ_POE_4_Isc (EL Image).jpg.json',\n",
       " '2_EL_18.09.2023-15-00-34_unknownID_ASU Minisample_07_68.jpg.json',\n",
       " '520 - TOPCon_4_front_post (EL Image).jpg.json',\n",
       " '1_EL_18.09.2023-15-43-19_unknownID_ASU Minisample_SHJ6_106.jpg.json',\n",
       " '0_EL_18.09.2023-15-03-23_unknownID_ASU Minisample_08_71.jpg.json',\n",
       " '678 - 3_TOPCon_2_rear (EL Image).jpg.json',\n",
       " '3_EL_18.09.2023-15-43-19_unknownID_ASU Minisample_SHJ6_106.jpg.json',\n",
       " '683 - 3_TOPCon_4_front (EL Image).jpg.json',\n",
       " '3_EL_18.09.2023-15-34-42_unknownID_ASU Minisample_SHJ3_97.jpg.json',\n",
       " '0_EL_18.09.2023-14-55-55_unknownID_ASU Minisample_06_62.jpg.json',\n",
       " '2_EL_18.09.2023-15-03-23_unknownID_ASU Minisample_08_71.jpg.json',\n",
       " '1303 - NICE TOPCon 1 Front Enapsulated (EL Image).jpg.json',\n",
       " '1243 - NICE_TC_Old_Post_Isc (EL Image).jpg.json',\n",
       " '800 - 3_TOPCon_2_rear_post (EL Image).jpg.json',\n",
       " '0_EL_18.09.2023-15-40-40_unknownID_ASU Minisample_SHJ5_103.jpg.json',\n",
       " '485 - Module 3 (EL Image).jpg.json',\n",
       " '3_EL_18.09.2023-14-42-47_unknownID_ASU Minisample_03_48.jpg.json',\n",
       " '681 - 3_TOPCon_3_front (EL Image).jpg.json',\n",
       " '1191 - Ea_TC_POE_1_Isc (EL Image).jpg.json',\n",
       " '516 - TOPCon_3_front_post (EL Image).jpg.json',\n",
       " '1_EL_2x2_NQ-01_20230915_125923.jpg.json',\n",
       " '1194 - Ea_TC_POE_2_Isc (EL Image).jpg.json',\n",
       " '684 - 3_TOPCon_4_rear (EL Image).jpg.json',\n",
       " '1_EL_18.09.2023-15-00-34_unknownID_ASU Minisample_07_68.jpg.json',\n",
       " '0_EL_18.09.2023-15-43-19_unknownID_ASU Minisample_SHJ6_106.jpg.json',\n",
       " '2_EL_18.09.2023-14-42-47_unknownID_ASU Minisample_04_48.jpg.json',\n",
       " '797 - 3_TOPCon_1_front_post (EL Image).jpg.json',\n",
       " '1_EL_18.09.2023-15-53-07_unknownID_ASU Minisample_SHJ8_117.jpg.json',\n",
       " '514 - TOPCon_2_front_post (EL Image).jpg.json',\n",
       " '2_EL_18.09.2023-15-27-31_unknownID_ASU Minisample_SHJ1_91.jpg.json',\n",
       " '2_EL_18.09.2023-14-45-47_unknownID_ASU Minisample_09_51.jpg.json',\n",
       " '515 - TOPCon_2_rear_post (EL Image).jpg.json',\n",
       " '1_EL_18.09.2023-15-40-40_unknownID_ASU Minisample_SHJ5_103.jpg.json',\n",
       " '3_EL_18.09.2023-15-03-23_unknownID_ASU Minisample_08_71.jpg.json',\n",
       " '511 - TOPCon_1_front_post (EL Image).jpg.json',\n",
       " '1_EL_18.09.2023-15-37-22_unknownID_ASU Minisample_SHJ4_100.jpg.json',\n",
       " '2_EL_18.09.2023-14-42-47_unknownID_ASU Minisample_03_48.jpg.json',\n",
       " '1240 - NICE_SHJ_2_Isc (EL Image).jpg.json',\n",
       " '0_EL_18.09.2023-14-38-10_unknownID_ASU Minisample_02_43.jpg.json',\n",
       " '798 - 3_TOPCon_1_front_post (EL Image).jpg.json',\n",
       " '1_EL_18.09.2023-15-03-23_unknownID_ASU Minisample_08_71.jpg.json',\n",
       " '0_EL_18.09.2023-15-53-07_unknownID_ASU Minisample_SHJ8_117.jpg.json',\n",
       " '0_EL_18.09.2023-14-42-47_unknownID_ASU Minisample_03_48.jpg.json',\n",
       " '0_EL_18.09.2023-14-45-47_unknownID_ASU Minisample_09_51.jpg.json',\n",
       " '1148 - Ea_SHJ_POE_3_Isc (EL Image).jpg.json',\n",
       " '3_EL_2x2_NQ-02_20230915_130525.jpg.json',\n",
       " '512 - TOPCon_1_front_post_2 (EL Image).jpg.json',\n",
       " '675 - 3_TOPCon_1_rear (EL Image).jpg.json',\n",
       " '517 - TOPCon_3_rear_post (EL Image).jpg.json',\n",
       " '1074 - GG Full Cell 1 No Indent initial (EL Image).jpg.json',\n",
       " '801 - 3_TOPCon_1_rear_post (EL Image).jpg.json',\n",
       " '3_EL_18.09.2023-15-00-34_unknownID_ASU Minisample_07_68.jpg.json',\n",
       " '2_EL_18.09.2023-15-40-40_unknownID_ASU Minisample_SHJ5_103.jpg.json',\n",
       " '0_EL_18.09.2023-15-00-34_unknownID_ASU Minisample_07_68.jpg.json',\n",
       " '2_EL_18.09.2023-15-34-42_unknownID_ASU Minisample_SHJ3_97.jpg.json',\n",
       " '0_EL_18.09.2023-15-37-22_unknownID_ASU Minisample_SHJ4_100.jpg.json',\n",
       " '1155 - Ea_SHJ_POE_5_Isc (EL Image).jpg.json',\n",
       " '3_EL_18.09.2023-15-37-22_unknownID_ASU Minisample_SHJ4_100.jpg.json',\n",
       " '1145 - Ea_SHJ_POE_2_Isc (EL Image).jpg.json',\n",
       " '3_EL_18.09.2023-14-51-50_unknownID_ASU Minisample_05_57.jpg.json',\n",
       " '1185 - Ea_TC_EVA_4_Isc (EL Image).jpg.json',\n",
       " '2_EL_18.09.2023-14-38-10_unknownID_ASU Minisample_02_43.jpg.json',\n",
       " '676 - 3_TOPCon_2_front (EL Image).jpg.json',\n",
       " '1166 - Ea_SHJ_EVA_3_Isc (EL Image).jpg.json',\n",
       " '513 - TOPCon_1_rear_post (EL Image).jpg.json',\n",
       " '0_EL_18.09.2023-14-42-47_unknownID_ASU Minisample_04_48.jpg.json',\n",
       " '1_EL_2x2_NQ-03_20230915_125152.jpg.json',\n",
       " '674 - 3_TOPCon_1_front (EL Image).jpg.json',\n",
       " '1_EL_18.09.2023-14-51-50_unknownID_ASU Minisample_05_57.jpg.json']"
      ]
     },
     "execution_count": 21,
     "metadata": {},
     "output_type": "execute_result"
    }
   ],
   "source": [
    "os.listdir(mask_folder)"
   ]
  },
  {
   "cell_type": "code",
   "execution_count": null,
   "id": "a292f019-94aa-461b-afa1-740a63a0bf22",
   "metadata": {},
   "outputs": [],
   "source": []
  }
 ],
 "metadata": {
  "kernelspec": {
   "display_name": "dmenv",
   "language": "python",
   "name": "dmenv"
  },
  "language_info": {
   "codemirror_mode": {
    "name": "ipython",
    "version": 3
   },
   "file_extension": ".py",
   "mimetype": "text/x-python",
   "name": "python",
   "nbconvert_exporter": "python",
   "pygments_lexer": "ipython3",
   "version": "3.11.2"
  },
  "widgets": {
   "application/vnd.jupyter.widget-state+json": {
    "state": {},
    "version_major": 2,
    "version_minor": 0
   }
  }
 },
 "nbformat": 4,
 "nbformat_minor": 5
}
