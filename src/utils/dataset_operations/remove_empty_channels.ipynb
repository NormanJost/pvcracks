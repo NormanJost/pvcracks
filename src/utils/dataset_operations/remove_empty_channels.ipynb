{
 "cells": [
  {
   "cell_type": "code",
   "execution_count": 1,
   "metadata": {},
   "outputs": [],
   "source": [
    "import numpy as np\n",
    "import os"
   ]
  },
  {
   "cell_type": "code",
   "execution_count": 2,
   "metadata": {},
   "outputs": [],
   "source": [
    "# Path to the directory where the .npy files are stored\n",
    "npy_dir_1 = '/Users/ojas/Desktop/saj/SANDIA/pvcracks_data/Channeled_Combined_CWRU_LBNL_ASU_No_Empty/ann/train/'\n",
    "npy_dir_2 = '/Users/ojas/Desktop/saj/SANDIA/pvcracks_data/Channeled_Combined_CWRU_LBNL_ASU_No_Empty/ann/val/'"
   ]
  },
  {
   "cell_type": "code",
   "execution_count": 3,
   "metadata": {},
   "outputs": [
    {
     "data": {
      "text/plain": [
       "'category_mapping = {0: \"empty\", 1: \"dark\", 2: \"busbar\", 3: \"crack\", 4: \"non-cell\"}'"
      ]
     },
     "execution_count": 3,
     "metadata": {},
     "output_type": "execute_result"
    }
   ],
   "source": [
    "# Get a list of all .npy files in the directory\n",
    "npy_files_1 = [file for file in os.listdir(npy_dir_1) if file.endswith('.npy')]\n",
    "npy_files_2 = [file for file in os.listdir(npy_dir_2) if file.endswith('.npy')]"
   ]
  },
  {
   "cell_type": "code",
   "execution_count": null,
   "metadata": {},
   "outputs": [],
   "source": [
    "# Loop through each .npy file\n",
    "for id, file in enumerate(npy_files_1):\n",
    "    # Load the .npy file\n",
    "    data = np.load(os.path.join(npy_dir_1, file))\n",
    "    \n",
    "    # Remove the first channel (index 0)\n",
    "    data = data[1:, :, :]\n",
    "    \n",
    "    # Save the updated .npy file\n",
    "    np.save(os.path.join(npy_dir_1, file), data)\n",
    "    print(f\"Saved {file} at index {id}\")"
   ]
  },
  {
   "cell_type": "code",
   "execution_count": null,
   "metadata": {},
   "outputs": [],
   "source": [
    "# Loop through each .npy file\n",
    "for id, file in enumerate(npy_files_2):\n",
    "    # Load the .npy file\n",
    "    data = np.load(os.path.join(npy_dir_2, file))\n",
    "    \n",
    "    # Remove the first channel (index 0)\n",
    "    data = data[1:, :, :]\n",
    "    \n",
    "    # Save the updated .npy file\n",
    "    np.save(os.path.join(npy_dir_2, file), data)\n",
    "    print(f\"Saved {file} at index {id}\")"
   ]
  }
 ],
 "metadata": {
  "kernelspec": {
   "display_name": "Python 3",
   "language": "python",
   "name": "python3"
  },
  "language_info": {
   "codemirror_mode": {
    "name": "ipython",
    "version": 3
   },
   "file_extension": ".py",
   "mimetype": "text/x-python",
   "name": "python",
   "nbconvert_exporter": "python",
   "pygments_lexer": "ipython3",
   "version": "3.12.9"
  }
 },
 "nbformat": 4,
 "nbformat_minor": 2
}
