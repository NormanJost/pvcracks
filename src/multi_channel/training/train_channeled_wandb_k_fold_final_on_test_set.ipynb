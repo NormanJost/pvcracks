{
 "cells": [
  {
   "cell_type": "code",
   "execution_count": null,
   "id": "2953166f-9996-4024-82e6-24ddf3effbfd",
   "metadata": {},
   "outputs": [
    {
     "ename": "ModuleNotFoundError",
     "evalue": "No module named 'tutorials'",
     "output_type": "error",
     "traceback": [
      "\u001b[31m---------------------------------------------------------------------------\u001b[39m",
      "\u001b[31mModuleNotFoundError\u001b[39m                       Traceback (most recent call last)",
      "\u001b[36mCell\u001b[39m\u001b[36m \u001b[39m\u001b[32mIn[1]\u001b[39m\u001b[32m, line 32\u001b[39m\n\u001b[32m     29\u001b[39m ojas_functions_dir = \u001b[33m'\u001b[39m\u001b[33m/Users/ojas/Desktop/saj/SANDIA/pvcracks/retrain/\u001b[39m\u001b[33m'\u001b[39m\n\u001b[32m     30\u001b[39m sys.path.append(ojas_functions_dir)\n\u001b[32m---> \u001b[39m\u001b[32m32\u001b[39m \u001b[38;5;28;01mfrom\u001b[39;00m\u001b[38;5;250m \u001b[39m\u001b[34;01mtutorials\u001b[39;00m\u001b[34;01m.\u001b[39;00m\u001b[34;01munet_model\u001b[39;00m\u001b[38;5;250m \u001b[39m\u001b[38;5;28;01mimport\u001b[39;00m construct_unet\n\u001b[32m     33\u001b[39m \u001b[38;5;28;01mimport\u001b[39;00m\u001b[38;5;250m \u001b[39m\u001b[34;01mfunctions\u001b[39;00m\n\u001b[32m     34\u001b[39m \u001b[38;5;28;01mfrom\u001b[39;00m\u001b[38;5;250m \u001b[39m\u001b[34;01mtorch\u001b[39;00m\u001b[34;01m.\u001b[39;00m\u001b[34;01mutils\u001b[39;00m\u001b[34;01m.\u001b[39;00m\u001b[34;01mdata\u001b[39;00m\u001b[38;5;250m \u001b[39m\u001b[38;5;28;01mimport\u001b[39;00m random_split\n",
      "\u001b[31mModuleNotFoundError\u001b[39m: No module named 'tutorials'"
     ]
    }
   ],
   "source": [
    "import torch\n",
    "from torch.utils.data import DataLoader\n",
    "from torch.optim import Adam\n",
    "\n",
    "import numpy as np\n",
    "import os\n",
    "import json\n",
    "\n",
    "import matplotlib.pyplot as plt\n",
    "from tqdm import tqdm\n",
    "\n",
    "from utils.unet_model import construct_unet\n",
    "from utils import img_functions\n",
    "from torch.utils.data import random_split\n",
    "import wandb\n",
    "\n",
    "from utils import train_functions, viz_functions"
   ]
  },
  {
   "cell_type": "code",
   "execution_count": null,
   "id": "251c8172",
   "metadata": {},
   "outputs": [],
   "source": [
    "root = \"/Users/ojas/Desktop/saj/SANDIA/pvcracks_data/Channeled_Combined_CWRU_LBNL_ASU_No_Empty/\"\n",
    "\n",
    "\n",
    "model_weight_paths = {\n",
    "    \"emma_retrained\": \"/Users/ojas/Desktop/saj/SANDIA/pvcracks_data/retrained_pv-vision_model.pt\",\n",
    "    \"original\": \"/Users/ojas/Desktop/saj/SANDIA/pvcracks_data/pv-vision_model.pt\",\n",
    "}\n",
    "\n",
    "# weight_path = model_weight_paths[\"emma_retrained\"]\n",
    "weight_path = model_weight_paths[\"original\"]\n",
    "\n",
    "checkpoint_name = root.split(\"/\")[-2]"
   ]
  },
  {
   "cell_type": "code",
   "execution_count": null,
   "id": "a8b87524",
   "metadata": {},
   "outputs": [],
   "source": [
    "category_mapping = {0: \"dark\", 1: \"busbar\", 2: \"crack\", 3: \"non-cell\"}"
   ]
  },
  {
   "cell_type": "code",
   "execution_count": null,
   "id": "bf350952",
   "metadata": {},
   "outputs": [],
   "source": [
    "def dice_coefficient(pred, target, epsilon=1e-6):\n",
    "    intersection = (pred * target).sum()\n",
    "    union = pred.sum() + target.sum()\n",
    "    dice = (2.0 * intersection + epsilon) / (union + epsilon)\n",
    "    return dice\n",
    "\n",
    "\n",
    "def iou_score(pred, target, epsilon=1e-6):\n",
    "    intersection = (pred * target).sum()\n",
    "    union = pred.sum() + target.sum() - intersection\n",
    "    iou = (intersection + epsilon) / (union + epsilon)\n",
    "    return iou"
   ]
  },
  {
   "cell_type": "code",
   "execution_count": null,
   "id": "6eab99a6",
   "metadata": {},
   "outputs": [],
   "source": [
    "full_dataset = train_functions.load_dataset(root, full_set=True)"
   ]
  },
  {
   "cell_type": "code",
   "execution_count": null,
   "id": "089d575e",
   "metadata": {},
   "outputs": [],
   "source": [
    "train_size = int(0.9 * len(full_dataset))\n",
    "test_size = len(full_dataset) - train_size\n",
    "\n",
    "train_subset, test_subset = random_split(\n",
    "    full_dataset, [train_size, test_size], generator=torch.Generator().manual_seed(42)\n",
    ")"
   ]
  },
  {
   "cell_type": "code",
   "execution_count": null,
   "id": "51dd39d9",
   "metadata": {},
   "outputs": [],
   "source": [
    "# this is needed so that we can a) split the dataset into train/test while ensuring our seed is the same as the wandb_k_fold, b) and preserver stuff like __getraw__ from solardataset when doing inference\n",
    "\n",
    "\n",
    "class SubsetWithRaw(torch.utils.data.Subset):\n",
    "    def __getraw__(self, idx):\n",
    "        return self.dataset.__getraw__(self.indices[idx])\n",
    "\n",
    "\n",
    "train_set = SubsetWithRaw(full_dataset, train_subset.indices)\n",
    "test_set = SubsetWithRaw(full_dataset, test_subset.indices)"
   ]
  },
  {
   "cell_type": "code",
   "execution_count": null,
   "id": "1d61658c",
   "metadata": {},
   "outputs": [],
   "source": [
    "device, model = train_functions.load_device_and_model(weight_path)"
   ]
  },
  {
   "cell_type": "markdown",
   "id": "d59f2288",
   "metadata": {},
   "source": [
    "# Training"
   ]
  },
  {
   "cell_type": "code",
   "execution_count": null,
   "id": "b03596da",
   "metadata": {},
   "outputs": [],
   "source": [
    "save_name = \"model.pt\"\n",
    "save_dir = train_functions.get_save_dir(str(root), checkpoint_name)\n",
    "os.makedirs(save_dir, exist_ok=True)\n",
    "\n",
    "original_config = {\n",
    "    \"batch_size_train\": 8,\n",
    "    \"lr\": 0.00092234,\n",
    "    \"gamma\": 0.11727,\n",
    "    \"num_epochs\": 2,\n",
    "    # constants\n",
    "    \"batch_size_test\": 8,\n",
    "    \"criterion\": torch.nn.BCEWithLogitsLoss(),\n",
    "    \"k_folds\": 5,\n",
    "    # \"lr_scheduler_step_size\": 1,\n",
    "}\n",
    "\n",
    "config_serializable = original_config.copy()\n",
    "config_serializable[\"criterion\"] = str(config_serializable[\"criterion\"])\n",
    "\n",
    "with open(os.path.join(save_dir, \"config.json\"), \"w\", encoding=\"utf-8\") as f:\n",
    "    json.dump(config_serializable, f, ensure_ascii=False, indent=4)\n",
    "\n",
    "run = wandb.init(\n",
    "    project=\"pvcracks\",\n",
    "    entity=\"ojas-sanghi-university-of-arizona\",\n",
    "    config=original_config,\n",
    ")\n",
    "config = wandb.config"
   ]
  },
  {
   "cell_type": "code",
   "execution_count": null,
   "id": "3f5b95ef",
   "metadata": {},
   "outputs": [],
   "source": [
    "train_loader = DataLoader(train_set, batch_size=config.batch_size_train, shuffle=True)\n",
    "test_loader = DataLoader(test_set, batch_size=config.batch_size_test, shuffle=False)"
   ]
  },
  {
   "cell_type": "code",
   "execution_count": null,
   "id": "899b8831-e729-42c3-9eae-703af3d3001d",
   "metadata": {},
   "outputs": [],
   "source": [
    "optimizer = Adam(model.parameters(), lr=config.lr)\n",
    "\n",
    "# log gradients\n",
    "run.watch(model, log_freq=100)"
   ]
  },
  {
   "cell_type": "code",
   "execution_count": null,
   "id": "a0b5a33b-f614-4c09-af94-1ab3de3f189d",
   "metadata": {
    "scrolled": true,
    "tags": []
   },
   "outputs": [],
   "source": [
    "training_epoch_loss = []\n",
    "test_epoch_loss = []\n",
    "test_dice_loss = []\n",
    "test_iou_loss = []\n",
    "\n",
    "best_epoch_test_loss = float(\"inf\")\n",
    "best_epoch_dice = 0.0\n",
    "best_epoch_iou = 0.0\n",
    "\n",
    "for epoch in tqdm(range(1, config.num_epochs + 1)):\n",
    "    training_step_loss = []\n",
    "    for batch_idx, (data, target) in enumerate(train_loader):\n",
    "        data, target = data.to(device), target.to(device)\n",
    "        target = target.float()\n",
    "\n",
    "        optimizer.zero_grad()\n",
    "        # forward pass\n",
    "        output = model(data)\n",
    "        # calc loss -- bce with logits loss applies sigmoid interally\n",
    "        training_loss = original_config[\"criterion\"](output, target)\n",
    "        # backward pass\n",
    "        training_loss.backward()\n",
    "        optimizer.step()\n",
    "        # record loss\n",
    "        training_step_loss.append(training_loss.item())\n",
    "\n",
    "    test_step_loss = []\n",
    "    dice_scores = []\n",
    "    iou_scores = []\n",
    "    for batch_idx, (data, target) in enumerate(test_loader):\n",
    "        data, target = data.to(device), target.to(device)\n",
    "        target = target.float()\n",
    "        # forward pass\n",
    "        # data = data.to(device)\n",
    "        output = model(data)\n",
    "\n",
    "        # calc loss -- bce with logits loss applies sigmoid interally\n",
    "        test_loss = original_config[\"criterion\"](output, target)\n",
    "        test_step_loss.append(test_loss.item())\n",
    "\n",
    "        # compute dice and iou\n",
    "        pred_probs = torch.sigmoid(output)\n",
    "        pred_binary = (pred_probs > 0.5).float()\n",
    "        for i in range(pred_binary.size(1)):\n",
    "            dice = dice_coefficient(pred_binary[:, i], target[:, i])\n",
    "            iou = iou_score(pred_binary[:, i], target[:, i])\n",
    "            dice_scores.append(dice.item())\n",
    "            iou_scores.append(iou.item())\n",
    "\n",
    "    epoch_train_loss = np.mean(training_step_loss)\n",
    "    epoch_test_loss = np.mean(test_step_loss)\n",
    "    epoch_avg_dice = np.mean(dice_scores)\n",
    "    epoch_avg_iou = np.mean(iou_scores)\n",
    "\n",
    "    training_epoch_loss.append(epoch_train_loss)\n",
    "    test_epoch_loss.append(epoch_test_loss)\n",
    "    test_dice_loss.append(epoch_avg_dice)\n",
    "    test_iou_loss.append(epoch_avg_iou)\n",
    "\n",
    "    run.log(\n",
    "        {\n",
    "            \"train_loss\": epoch_train_loss,\n",
    "            \"test_loss\": epoch_test_loss,\n",
    "            \"avg_dice\": epoch_avg_dice,\n",
    "            \"avg_iou\": epoch_avg_iou,\n",
    "        },\n",
    "        step=epoch,\n",
    "    )\n",
    "\n",
    "    if epoch_test_loss < best_epoch_test_loss:\n",
    "        best_epoch_test_loss = epoch_test_loss\n",
    "        best_epoch_dice = epoch_avg_dice\n",
    "        best_epoch_iou = epoch_avg_iou\n",
    "\n",
    "        os.makedirs(os.path.join(save_dir, f\"epoch_{epoch}\"), exist_ok=True)\n",
    "        torch.save(\n",
    "            model.state_dict(), os.path.join(save_dir, f\"epoch_{epoch}\", save_name)\n",
    "        )\n",
    "        print(f\"Saved model at epoch {epoch}\")\n",
    "\n",
    "    print(\n",
    "        f\"Epoch {epoch} best test_loss: {best_epoch_test_loss:.4f}, dice: {best_epoch_dice:.4f}, iou: {best_epoch_iou:.4f}\"\n",
    "    )"
   ]
  },
  {
   "cell_type": "code",
   "execution_count": null,
   "id": "61e08d40",
   "metadata": {},
   "outputs": [],
   "source": [
    "run.finish()"
   ]
  },
  {
   "cell_type": "code",
   "execution_count": null,
   "id": "4951b028",
   "metadata": {},
   "outputs": [],
   "source": [
    "viz_functions.channeled_inference_and_show(test_loader, device, model, category_mapping, -32)"
   ]
  },
  {
   "cell_type": "code",
   "execution_count": null,
   "id": "0db3cb2c",
   "metadata": {},
   "outputs": [],
   "source": [
    "viz_functions.channeled_inference_and_show(test_loader, device, model, category_mapping, 13)"
   ]
  },
  {
   "cell_type": "code",
   "execution_count": null,
   "id": "d32576c8",
   "metadata": {},
   "outputs": [],
   "source": [
    "viz_functions.channeled_inference_and_show(test_loader, device, model, category_mapping, 44)"
   ]
  },
  {
   "cell_type": "code",
   "execution_count": null,
   "id": "3d6c084f",
   "metadata": {},
   "outputs": [],
   "source": [
    "viz_functions.channeled_inference_and_show(test_loader, device, model, category_mapping, 1)"
   ]
  },
  {
   "cell_type": "code",
   "execution_count": null,
   "id": "8933f766",
   "metadata": {},
   "outputs": [],
   "source": [
    "viz_functions.channeled_inference_and_show(test_loader, device, model, category_mapping, 6)"
   ]
  },
  {
   "cell_type": "code",
   "execution_count": null,
   "id": "05de89ce",
   "metadata": {},
   "outputs": [],
   "source": [
    "# for i in range(100):\n",
    "#     viz_functions.channeled_inference_and_show(test_loader, device, model, category_mapping, i)"
   ]
  },
  {
   "cell_type": "code",
   "execution_count": null,
   "id": "4e4a9bfe-7b09-4a7a-8718-fc779cb8b234",
   "metadata": {},
   "outputs": [],
   "source": [
    "fig, ax = plt.subplots()\n",
    "\n",
    "x = np.arange(1, len(training_epoch_loss) + 1, 1)\n",
    "\n",
    "ax.scatter(x, training_epoch_loss, label=\"training loss\")\n",
    "ax.scatter(x, test_epoch_loss, label=\"test loss\")\n",
    "ax.legend()\n",
    "ax.set_xlabel(\"Epoch\")\n",
    "\n",
    "print(training_epoch_loss)"
   ]
  },
  {
   "cell_type": "code",
   "execution_count": null,
   "id": "4646dffc",
   "metadata": {},
   "outputs": [],
   "source": [
    "test_epoch_loss"
   ]
  }
 ],
 "metadata": {
  "kernelspec": {
   "display_name": "pvcracks",
   "language": "python",
   "name": "python3"
  },
  "language_info": {
   "codemirror_mode": {
    "name": "ipython",
    "version": 3
   },
   "file_extension": ".py",
   "mimetype": "text/x-python",
   "name": "python",
   "nbconvert_exporter": "python",
   "pygments_lexer": "ipython3",
   "version": "3.12.9"
  }
 },
 "nbformat": 4,
 "nbformat_minor": 5
}
