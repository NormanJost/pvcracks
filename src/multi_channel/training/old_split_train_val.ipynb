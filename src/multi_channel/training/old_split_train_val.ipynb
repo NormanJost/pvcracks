{
 "cells": [
  {
   "cell_type": "code",
   "execution_count": 1,
   "id": "128ba8b5-bc3a-4ade-b7e3-3a3e273499de",
   "metadata": {},
   "outputs": [],
   "source": [
    "import os\n",
    "\n",
    "\n",
    "from sklearn.model_selection import train_test_split"
   ]
  },
  {
   "cell_type": "code",
   "execution_count": 2,
   "id": "a7a6b369-054a-4f47-beaa-764c6802009e",
   "metadata": {},
   "outputs": [],
   "source": [
    "root = \"/projects/wg-psel-ml/EL_images/osanghi/CornersIHDEANE/\"\n",
    "load_dir = root + \"all/\""
   ]
  },
  {
   "cell_type": "code",
   "execution_count": 3,
   "id": "5cff5f48-08db-435f-8b00-9309c129610e",
   "metadata": {},
   "outputs": [
    {
     "name": "stdout",
     "output_type": "stream",
     "text": [
      "['1_EL_18.09.2023-14-51-50_unknownID_ASU Minisample_05_57.jpg.json', '1191 - Ea_TC_POE_1_Isc (EL Image).jpg.json', '1145 - Ea_SHJ_POE_2_Isc (EL Image).jpg.json', '3_EL_18.09.2023-14-51-50_unknownID_ASU Minisample_05_57.jpg.json', '3_EL_2x2_NQ-04_20230915_130134.jpg.json', '2_EL_2x2_NQ-01_20230915_125923.jpg.json', '1237 - NICE_SHJ_1_Isc (EL Image).jpg.json', '1179 - Ea_TC_EVA_2_Isc (EL Image).jpg.json', '1243 - NICE_TC_Old_Post_Isc (EL Image).jpg.json', '0_EL_18.09.2023-15-40-40_unknownID_ASU Minisample_SHJ5_103.jpg.json', '1_EL_18.09.2023-15-53-07_unknownID_ASU Minisample_SHJ8_117.jpg.json', '0_EL_2x2_NQ-03_20230915_125152.jpg.jpg.json', '1207 - Old TC for PID_1_front_Isc (EL Image).jpg.json', '0_EL_18.09.2023-15-53-07_unknownID_ASU Minisample_SHJ8_117.jpg.json', '1185 - Ea_TC_EVA_4_Isc (EL Image).jpg.json', '3_EL_18.09.2023-15-34-42_unknownID_ASU Minisample_SHJ3_97.jpg.json', '3_EL_18.09.2023-15-43-19_unknownID_ASU Minisample_SHJ6_106.jpg.json', '0_EL_18.09.2023-15-00-34_unknownID_ASU Minisample_07_68.jpg.json', '3_EL_18.09.2023-14-45-47_unknownID_ASU Minisample_09_51.jpg.json', '3_EL_18.09.2023-15-40-40_unknownID_ASU Minisample_SHJ5_103.jpg.json', '2_EL_18.09.2023-14-38-10_unknownID_ASU Minisample_02_43.jpg.json', '2_EL_18.09.2023-15-37-22_unknownID_ASU Minisample_SHJ4_100.jpg.json', '1224 - Old TC for PID_3_front_Isc (EL Image).jpg.jpg.json', '2_EL_18.09.2023-15-27-31_unknownID_ASU Minisample_SHJ1_91.jpg.json', '0_EL_18.09.2023-15-43-19_unknownID_ASU Minisample_SHJ6_106.jpg.json', '1240 - NICE_SHJ_2_Isc (EL Image).jpg.json', '3_EL_18.09.2023-15-00-34_unknownID_ASU Minisample_07_68.jpg.json', '1155 - Ea_SHJ_POE_5_Isc (EL Image).jpg.json', '0_EL_2x2_NQ-04_20230915_130134.jpg.json', '-1_EL_18.09.2023-15-53-07_unknownID_ASU Minisample_SHJ8_117.jpg.json', '0_EL_2x2_NQ-01_20230915_125923.jpg.json', '2_EL_18.09.2023-15-03-23_unknownID_ASU Minisample_08_71.jpg.json', '0_EL_18.09.2023-15-37-22_unknownID_ASU Minisample_SHJ4_100.jpg.json', '1188 - Ea_TC_EVA_Isc (EL Image).jpg.json', '2_EL_2x2_NQ-03_20230915_125152.jpg.json', '1234 - Old TC for PID_Rear_4_Isc (EL Image).jpg.json', '0_EL_18.09.2023-14-42-47_unknownID_ASU Minisample_04_48.jpg.json', '0_EL_18.09.2023-14-55-55_unknownID_ASU Minisample_06_62.jpg.json', '1182 - Ea_TC_EVA_3_Isc (EL Image).jpg.json', '1_EL_18.09.2023-15-43-19_unknownID_ASU Minisample_SHJ6_106.jpg.json', '1194 - Ea_TC_POE_2_Isc (EL Image).jpg.json', '1_EL_18.09.2023-14-55-55_unknownID_ASU Minisample_06_62.jpg.json', '1204 - Ea_TC_POE_5_Isc (EL Image).jpg.jpg.json', '2_EL_18.09.2023-15-40-40_unknownID_ASU Minisample_SHJ5_103.jpg.json', '1_EL_18.09.2023-14-42-47_unknownID_ASU Minisample_03_48.jpg.json', '1_EL_18.09.2023-15-37-22_unknownID_ASU Minisample_SHJ4_100.jpg.json', '1_EL_18.09.2023-15-34-42_unknownID_ASU Minisample_SHJ3_97.jpg.json', '0_EL_18.09.2023-14-45-47_unknownID_ASU Minisample_09_51.jpg.json', '0_EL_18.09.2023-15-34-42_unknownID_ASU Minisample_SHJ3_97.jpg.json', '1302 - NICE TOPCon 2 Front Enapsulated (EL Image).jpg.json', '1166 - Ea_SHJ_EVA_3_Isc (EL Image).jpg.json', '3_EL_18.09.2023-14-55-55_unknownID_ASU Minisample_06_62.jpg.json', '1_EL_18.09.2023-14-42-47_unknownID_ASU Minisample_04_48.jpg.json', '2_EL_18.09.2023-14-42-47_unknownID_ASU Minisample_04_48.jpg.json', '1_EL_2x2_NQ-01_20230915_125923.jpg.jpg.json', '0_EL_18.09.2023-14-42-47_unknownID_ASU Minisample_03_48.jpg.json', '2_EL_2x2_NQ-02_20230915_130525.jpg.json', '1_EL_18.09.2023-14-38-10_unknownID_ASU Minisample_02_43.jpg.json', '2_EL_18.09.2023-15-00-34_unknownID_ASU Minisample_07_68.jpg.json', '2_EL_18.09.2023-15-31-57_unknownID_ASU Minisample_SHJ2_94.jpg.json', '1176 - Ea_TC_EVA_1_Isc (EL Image).jpg.json', '1_EL_18.09.2023-15-40-40_unknownID_ASU Minisample_SHJ5_103.jpg.json', '1_EL_18.09.2023-15-00-34_unknownID_ASU Minisample_07_68.jpg.json', '0_EL_18.09.2023-14-38-10_unknownID_ASU Minisample_02_43.jpg.json', '0_EL_18.09.2023-15-31-57_unknownID_ASU Minisample_SHJ2_94.jpg.json', '0_EL_2x2_NQ-02_20230915_130525.jpg.jpg.json', '1303 - NICE TOPCon 1 Front Enapsulated (EL Image).jpg.json', '1_EL_2x2_NQ-03_20230915_125152.jpg.json', '2_EL_18.09.2023-14-45-47_unknownID_ASU Minisample_09_51.jpg.json']\n"
     ]
    }
   ],
   "source": [
    "masks = [c for c in os.listdir(load_dir) if c.endswith(\".json\")]\n",
    "images = [c for c in os.listdir(load_dir) if c.endswith(\".jpg\")]\n",
    "\n",
    "train_set, test_set = train_test_split(\n",
    "    masks,\n",
    "    test_size=None,\n",
    "    train_size=None,\n",
    "    random_state=None,\n",
    "    shuffle=True,\n",
    "    stratify=None,\n",
    ")\n",
    "\n",
    "print(train_set)"
   ]
  },
  {
   "cell_type": "code",
   "execution_count": 4,
   "id": "354a2529",
   "metadata": {},
   "outputs": [],
   "source": [
    "# copy the files to the train directory\n",
    "i = 0\n",
    "while i < len(train_set):\n",
    "    print('cp \"' + load_dir + train_set[i] + '\" ' + root + 'train/\"')\n",
    "    os.system('cp \"' + load_dir + train_set[i] + '\" ' + root + 'train/\"')\n",
    "\n",
    "    # extract the associated image file with the mask\n",
    "    print('cp \"' + load_dir + train_set[i][:-5] + '.jpg\" ' + root + 'train/\"')\n",
    "    os.system('cp \"' + load_dir + train_set[i][:-5] + '.jpg\" ' + root + 'train/\"')\n",
    "\n",
    "    i += 1"
   ]
  },
  {
   "cell_type": "code",
   "execution_count": 5,
   "id": "0b790be7",
   "metadata": {},
   "outputs": [],
   "source": [
    "i = 0\n",
    "while i < len(test_set):\n",
    "    print('cp \"' + load_dir + test_set[i] + '\" ' + root + 'test/\"')\n",
    "    os.system('cp \"' + load_dir + test_set[i] + '\" ' + root + 'test/\"')\n",
    "\n",
    "    print('cp \"' + load_dir + test_set[i][:-5] + '.jpg\" ' + root + 'test/\"')\n",
    "    os.system('cp \"' + load_dir + test_set[i][:-5] + '.jpg\" ' + root + 'test/\"')\n",
    "\n",
    "    i += 1"
   ]
  }
 ],
 "metadata": {
  "kernelspec": {
   "display_name": ".venv",
   "language": "python",
   "name": "python3"
  },
  "language_info": {
   "codemirror_mode": {
    "name": "ipython",
    "version": 3
   },
   "file_extension": ".py",
   "mimetype": "text/x-python",
   "name": "python",
   "nbconvert_exporter": "python",
   "pygments_lexer": "ipython3",
   "version": "3.12.5"
  },
  "widgets": {
   "application/vnd.jupyter.widget-state+json": {
    "state": {},
    "version_major": 2,
    "version_minor": 0
   }
  }
 },
 "nbformat": 4,
 "nbformat_minor": 5
}
