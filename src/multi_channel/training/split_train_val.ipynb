{
 "cells": [
  {
   "cell_type": "code",
   "execution_count": 1,
   "id": "128ba8b5-bc3a-4ade-b7e3-3a3e273499de",
   "metadata": {},
   "outputs": [],
   "source": [
    "import numpy as np\n",
    "import os\n",
    "import cv2\n",
    "from sklearn.model_selection import train_test_split"
   ]
  },
  {
   "cell_type": "code",
   "execution_count": 2,
   "id": "a7a6b369-054a-4f47-beaa-764c6802009e",
   "metadata": {},
   "outputs": [],
   "source": [
    "# root = '/projects/wg-psel-ml/EL_images/osanghi/CornersIHDEANE/'\n",
    "# root = \"/Users/ojas/Desktop/saj/SANDIA/pvcracks_data/CornersIHDEANE/\"\n",
    "# root = \"/Users/ojas/Desktop/saj/SANDIA/pvcracks_data/Norman_LineCorners/\"\n",
    "# root = \"/Users/ojas/Desktop/saj/SANDIA/pvcracks_data/LineCorners_With_Original/\"\n",
    "# root = \"/Users/ojas/Desktop/saj/SANDIA/pvcracks_data/CWRU_SunEdison_Mono/\"\n",
    "# root = \"/Users/ojas/Desktop/saj/SANDIA/pvcracks_data/CWRU_Dupont_Mono/\"\n",
    "# root = \"/Users/ojas/Desktop/saj/SANDIA/pvcracks_data/LBNL_Mono_Cells/\"\n",
    "# root = \"/Users/ojas/Desktop/saj/SANDIA/pvcracks_data/ASU_IHDEANE/\"\n",
    "# root = \"/Users/ojas/Desktop/saj/SANDIA/pvcracks_data/Combined_CWRU_LBNL_ASU_Overlap/\"\n",
    "# root = \"/Users/ojas/Desktop/saj/SANDIA/pvcracks_data/Combined_CWRU_LBNL_ASU_Combined_Overlap_NoOverlap/\"\n",
    "# root = \"/Users/ojas/Desktop/saj/SANDIA/pvcracks_data/CWRU_Dupont_Mono_ContinuousCracks/\"\n",
    "# root = \"/Users/ojas/Desktop/saj/SANDIA/pvcracks_data/CWRU_SunEdison_Mono_ContinuousCracks/\"\n",
    "# root = \"/Users/ojas/Desktop/saj/SANDIA/pvcracks_data/Fresh_CWRU_SunEdison/\"\n",
    "# root = \"/Users/ojas/Desktop/saj/SANDIA/pvcracks_data/Fresh_ASU/\"\n",
    "root = \"/Users/ojas/Desktop/saj/SANDIA/pvcracks_data/Fresh_LBNL/\"\n",
    "\n",
    "\n",
    "cracks_dir = root + \"ann_npy_split_cracks/all/\"\n",
    "busbars_dir = root + \"ann_npy_split_busbars/all/\"\n",
    "# cracks_dir = root + \"ann_npy/all/\"\n",
    "img_dir = root + \"img/all/\""
   ]
  },
  {
   "cell_type": "code",
   "execution_count": 3,
   "id": "0ff9f835",
   "metadata": {},
   "outputs": [],
   "source": [
    "image_file_extension = \"jpg\"\n",
    "# image_file_extension = \"tiff\""
   ]
  },
  {
   "cell_type": "code",
   "execution_count": 4,
   "id": "5cff5f48-08db-435f-8b00-9309c129610e",
   "metadata": {},
   "outputs": [],
   "source": [
    "cracks_masks = [c for c in os.listdir(cracks_dir)]\n",
    "busbars_masks = [c for c in os.listdir(busbars_dir)]\n",
    "# img_files = [c for c in os.listdir(img_dir)]\n",
    "\n",
    "cracks_train_set, cracks_val_set = train_test_split(\n",
    "    cracks_masks, random_state=42, shuffle=False\n",
    ")\n",
    "busbars_train_set, busbars_val_set = train_test_split(\n",
    "    busbars_masks, random_state=42, shuffle=False\n",
    ")\n",
    "# img_train_set, img_val_set = train_test_split(img_files, random_state=42, shuffle=False)"
   ]
  },
  {
   "cell_type": "code",
   "execution_count": 17,
   "id": "99a0a4c8",
   "metadata": {},
   "outputs": [],
   "source": [
    "img_train_dir = root + \"img/train/\"\n",
    "img_val_dir = root + \"img/val/\"\n",
    "\n",
    "ann_train_dir = root + \"ann/train/\"\n",
    "ann_val_dir = root + \"ann/val/\"\n",
    "\n",
    "for crack_mask in cracks_train_set:\n",
    "    loaded_mask = np.load(cracks_dir + crack_mask)\n",
    "    np.save(ann_train_dir + \"cr_\" + crack_mask, loaded_mask)\n",
    "    # np.save(ann_train_dir + crack_mask, loaded_mask)\n",
    "\n",
    "    name = crack_mask[0:-4]\n",
    "    name += \".\" + image_file_extension\n",
    "    img = cv2.imread(img_dir + name)\n",
    "    cv2.imwrite(img_train_dir + \"cr_\" + name, img)\n",
    "    # cv2.imwrite(img_train_dir + name, img)\n",
    "\n",
    "for crack_mask in cracks_val_set:\n",
    "    loaded_mask = np.load(cracks_dir + crack_mask)\n",
    "    np.save(ann_val_dir + \"cr_\" + crack_mask, loaded_mask)\n",
    "    # np.save(ann_val_dir + crack_mask, loaded_mask)\n",
    "\n",
    "    name = crack_mask[0:-4]\n",
    "    name += \".\" + image_file_extension\n",
    "    img = cv2.imread(img_dir + name)\n",
    "    cv2.imwrite(img_val_dir + \"cr_\" + name, img)\n",
    "    # cv2.imwrite(img_val_dir + name, img)\n",
    "\n",
    "for busbar_mask in busbars_train_set:\n",
    "    loaded_mask = np.load(busbars_dir + busbar_mask)\n",
    "    np.save(ann_train_dir + \"bu_\" + busbar_mask, loaded_mask)\n",
    "\n",
    "    name = busbar_mask[0:-4]\n",
    "    name += \".\" + image_file_extension\n",
    "    img = cv2.imread(img_dir + name)\n",
    "    cv2.imwrite(img_train_dir + \"bu_\" + name, img)\n",
    "\n",
    "for busbar_mask in busbars_val_set:\n",
    "    loaded_mask = np.load(busbars_dir + busbar_mask)\n",
    "    np.save(ann_val_dir + \"bu_\" + busbar_mask, loaded_mask)\n",
    "\n",
    "    name = busbar_mask[0:-4]\n",
    "    name += \".\" + image_file_extension\n",
    "    img = cv2.imread(img_dir + name)\n",
    "    cv2.imwrite(img_val_dir + \"bu_\" + name, img)"
   ]
  }
 ],
 "metadata": {
  "kernelspec": {
   "display_name": "pvcracks (3.12.9)",
   "language": "python",
   "name": "python3"
  },
  "language_info": {
   "codemirror_mode": {
    "name": "ipython",
    "version": 3
   },
   "file_extension": ".py",
   "mimetype": "text/x-python",
   "name": "python",
   "nbconvert_exporter": "python",
   "pygments_lexer": "ipython3",
   "version": "3.12.9"
  },
  "widgets": {
   "application/vnd.jupyter.widget-state+json": {
    "state": {},
    "version_major": 2,
    "version_minor": 0
   }
  }
 },
 "nbformat": 4,
 "nbformat_minor": 5
}
