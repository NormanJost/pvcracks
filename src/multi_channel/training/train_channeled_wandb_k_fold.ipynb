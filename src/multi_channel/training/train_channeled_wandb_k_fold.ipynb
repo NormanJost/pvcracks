{
 "cells": [
  {
   "cell_type": "code",
   "execution_count": null,
   "metadata": {},
   "outputs": [],
   "source": [
    "import json\n",
    "import os\n",
    "\n",
    "import numpy as np\n",
    "import torch\n",
    "from torch.optim import Adam\n",
    "from torch.utils.data import DataLoader\n",
    "from tqdm import tqdm\n",
    "from sklearn.model_selection import KFold\n",
    "from sklearn.model_selection import train_test_split\n",
    "\n",
    "import wandb\n",
    "\n",
    "from utils import train_functions"
   ]
  },
  {
   "cell_type": "code",
   "execution_count": null,
   "metadata": {},
   "outputs": [],
   "source": [
    "root = \"/Users/ojas/Desktop/saj/SANDIA/pvcracks_data/Channeled_Combined_CWRU_LBNL_ASU_No_Empty/\"\n",
    "weight_path = \"/Users/ojas/Desktop/saj/SANDIA/pvcracks_data/pv-vision_model.pt\"\n",
    "\n",
    "checkpoint_name = \"wandb_\" + root.split(\"/\")[-2]"
   ]
  },
  {
   "cell_type": "code",
   "execution_count": null,
   "metadata": {},
   "outputs": [],
   "source": [
    "category_mapping = {0: \"dark\", 1: \"busbar\", 2: \"crack\", 3: \"non-cell\"}"
   ]
  },
  {
   "cell_type": "code",
   "execution_count": null,
   "metadata": {},
   "outputs": [],
   "source": [
    "def dice_coefficient(pred, target, epsilon=1e-6):\n",
    "    intersection = (pred * target).sum()\n",
    "    union = pred.sum() + target.sum()\n",
    "    dice = (2.0 * intersection + epsilon) / (union + epsilon)\n",
    "    return dice\n",
    "\n",
    "\n",
    "def iou_score(pred, target, epsilon=1e-6):\n",
    "    intersection = (pred * target).sum()\n",
    "    union = pred.sum() + target.sum() - intersection\n",
    "    iou = (intersection + epsilon) / (union + epsilon)\n",
    "    return iou"
   ]
  },
  {
   "cell_type": "code",
   "execution_count": null,
   "metadata": {},
   "outputs": [],
   "source": [
    "full_dataset = train_functions.load_dataset(root, full_set=True)"
   ]
  },
  {
   "cell_type": "code",
   "execution_count": null,
   "metadata": {},
   "outputs": [],
   "source": [
    "trainval_set, test_set = train_test_split(full_dataset, test_size=0.1, random_state=42)"
   ]
  },
  {
   "cell_type": "markdown",
   "metadata": {},
   "source": [
    " # Training"
   ]
  },
  {
   "cell_type": "code",
   "execution_count": null,
   "metadata": {},
   "outputs": [],
   "source": [
    "save_name = \"model.pt\"\n",
    "save_dir = train_functions.get_save_dir(str(root), checkpoint_name)\n",
    "os.makedirs(save_dir, exist_ok=True)\n",
    "\n",
    "original_config = {\n",
    "    \"batch_size_train\": 8,\n",
    "    \"lr\": 0.00092234,\n",
    "    \"gamma\": 0.11727,\n",
    "    \"num_epochs\": 1,\n",
    "    # constants\n",
    "    \"batch_size_val\": 8,\n",
    "    \"criterion\": torch.nn.BCEWithLogitsLoss(),\n",
    "    \"k_folds\": 5,\n",
    "    # \"lr_scheduler_step_size\": 1,\n",
    "}\n",
    "\n",
    "config_serializable = original_config.copy()\n",
    "config_serializable[\"criterion\"] = str(config_serializable[\"criterion\"])\n",
    "\n",
    "with open(os.path.join(save_dir, \"config.json\"), \"w\", encoding=\"utf-8\") as f:\n",
    "    json.dump(config_serializable, f, ensure_ascii=False, indent=4)\n",
    "\n",
    "run = wandb.init(\n",
    "    project=\"pvcracks\",\n",
    "    entity=\"ojas-sanghi-university-of-arizona\",\n",
    "    config=original_config,\n",
    ")\n",
    "config = wandb.config"
   ]
  },
  {
   "cell_type": "code",
   "execution_count": null,
   "metadata": {},
   "outputs": [],
   "source": [
    "k_folds = config.k_folds\n",
    "kfold = KFold(n_splits=k_folds, shuffle=True, random_state=42)\n",
    "\n",
    "# Lists to collect per-fold best metrics\n",
    "fold_val_losses = []\n",
    "fold_dice_scores = []\n",
    "fold_iou_scores = []\n",
    "\n",
    "\n",
    "for fold, (train_ids, val_ids) in enumerate(kfold.split(trainval_set)):\n",
    "    print(f\"\\n--- FOLD {fold + 1}/{k_folds} ---\")\n",
    "\n",
    "    train_subsampler = torch.utils.data.Subset(trainval_set, train_ids)\n",
    "    train_loader = DataLoader(\n",
    "        train_subsampler, batch_size=config.batch_size_train, shuffle=True\n",
    "    )\n",
    "    val_subsampler = torch.utils.data.Subset(trainval_set, val_ids)\n",
    "    val_loader = DataLoader(\n",
    "        val_subsampler, batch_size=config.batch_size_val, shuffle=False\n",
    "    )\n",
    "\n",
    "    # Initialize a fresh model and optimizer\n",
    "    device, model = train_functions.load_device_and_model(weight_path)\n",
    "    optimizer = Adam(model.parameters(), lr=config.lr)\n",
    "    run.watch(model, log_freq=100)\n",
    "\n",
    "    best_fold_val_loss = float(\"inf\")\n",
    "    best_fold_dice = 0.0\n",
    "    best_fold_iou = 0.0\n",
    "\n",
    "    # PER-EPOCH TRAINING\n",
    "    for epoch in tqdm(range(1, config.num_epochs + 1)):\n",
    "        training_step_loss = []\n",
    "        for data, target in train_loader:\n",
    "            data, target = data.to(device), target.to(device)\n",
    "            target = target.float()\n",
    "\n",
    "            optimizer.zero_grad()\n",
    "            output = model(data)\n",
    "            training_loss = original_config[\"criterion\"](output, target)\n",
    "            training_loss.backward()\n",
    "            optimizer.step()\n",
    "\n",
    "            training_step_loss.append(training_loss.item())\n",
    "\n",
    "        val_step_loss = []\n",
    "        dice_scores = []\n",
    "        iou_scores = []\n",
    "        for data, target in val_loader:\n",
    "            data, target = data.to(device), target.to(device)\n",
    "            target = target.float()\n",
    "            output = model(data)\n",
    "\n",
    "            val_loss = original_config[\"criterion\"](output, target)\n",
    "            val_step_loss.append(val_loss.item())\n",
    "\n",
    "            # compute dice and iou\n",
    "            pred_probs = torch.sigmoid(output)\n",
    "            pred_binary = (pred_probs > 0.5).float()\n",
    "            for i in range(pred_binary.size(1)):\n",
    "                dice = dice_coefficient(pred_binary[:, i], target[:, i])\n",
    "                iou = iou_score(pred_binary[:, i], target[:, i])\n",
    "                dice_scores.append(dice.item())\n",
    "                iou_scores.append(iou.item())\n",
    "\n",
    "        epoch_train_loss = np.mean(training_step_loss)\n",
    "        epoch_val_loss = np.mean(val_step_loss)\n",
    "        epoch_avg_dice = np.mean(dice_scores)\n",
    "        epoch_avg_iou = np.mean(iou_scores)\n",
    "\n",
    "        # Specify the step metric (x-axis) and the metric to log against it (y-axis)\n",
    "        run.define_metric(f\"fold{fold + 1}/*\", step_metric=\"epoch\")\n",
    "\n",
    "        # Log per-fold, per-epoch to W&B\n",
    "        run.log(\n",
    "            {\n",
    "                f\"fold{fold + 1}/train_loss\": epoch_train_loss,\n",
    "                f\"fold{fold + 1}/val_loss\": epoch_val_loss,\n",
    "                f\"fold{fold + 1}/dice\": epoch_avg_dice,\n",
    "                f\"fold{fold + 1}/iou\": epoch_avg_iou,\n",
    "            },\n",
    "            step=epoch,\n",
    "        )\n",
    "\n",
    "        # Keep best for this fold\n",
    "        if epoch_val_loss < best_fold_val_loss:\n",
    "            best_fold_val_loss = epoch_val_loss\n",
    "            best_fold_dice = epoch_avg_dice\n",
    "            best_fold_iou = epoch_avg_iou\n",
    "\n",
    "    print(\n",
    "        f\"Fold {fold + 1} best val_loss: {best_fold_val_loss:.4f}, dice: {best_fold_dice:.4f}, iou: {best_fold_iou:.4f}\"\n",
    "    )\n",
    "\n",
    "    fold_val_losses.append(best_fold_val_loss)\n",
    "    fold_dice_scores.append(best_fold_dice)\n",
    "    fold_iou_scores.append(best_fold_iou)"
   ]
  },
  {
   "cell_type": "code",
   "execution_count": null,
   "metadata": {},
   "outputs": [],
   "source": [
    "# ========== AGGREGATE RESULTS ACROSS FOLDS ==========\n",
    "\n",
    "avg_val_loss = np.mean(fold_val_losses)\n",
    "avg_dice = np.mean(fold_dice_scores)\n",
    "avg_iou = np.mean(fold_iou_scores)\n",
    "\n",
    "# Log the averages to W&B summary for sweep optimization\n",
    "wandb.log(\n",
    "    {\n",
    "        \"avg_val_loss\": avg_val_loss,\n",
    "        \"avg_dice\": avg_dice,\n",
    "        \"avg_iou\": avg_iou,\n",
    "    }\n",
    ")\n",
    "wandb.run.summary[\"avg_val_loss\"] = avg_val_loss\n",
    "\n",
    "print(f\"Average val_loss: {avg_val_loss:.4f}, dice: {avg_dice:.4f}, iou: {avg_iou:.4f}\")"
   ]
  },
  {
   "cell_type": "markdown",
   "metadata": {},
   "source": [
    " ---"
   ]
  },
  {
   "cell_type": "code",
   "execution_count": null,
   "metadata": {},
   "outputs": [],
   "source": [
    "run.finish()"
   ]
  },
  {
   "cell_type": "markdown",
   "metadata": {},
   "source": [
    "---"
   ]
  }
 ],
 "metadata": {
  "kernelspec": {
   "display_name": ".venv",
   "language": "python",
   "name": "python3"
  },
  "language_info": {
   "codemirror_mode": {
    "name": "ipython",
    "version": 3
   },
   "file_extension": ".py",
   "mimetype": "text/x-python",
   "name": "python",
   "nbconvert_exporter": "python",
   "pygments_lexer": "ipython3",
   "version": "3.12.9"
  }
 },
 "nbformat": 4,
 "nbformat_minor": 2
}
