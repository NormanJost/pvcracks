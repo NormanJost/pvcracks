{
 "cells": [
  {
   "cell_type": "code",
   "execution_count": 1,
   "id": "128ba8b5-bc3a-4ade-b7e3-3a3e273499de",
   "metadata": {},
   "outputs": [],
   "source": [
    "import numpy as np\n",
    "import matplotlib.pyplot as plt\n",
    "\n",
    "import os\n",
    "import re\n",
    "\n",
    "from PIL import Image, ImageOps\n",
    "\n",
    "from sklearn.model_selection import train_test_split"
   ]
  },
  {
   "cell_type": "code",
   "execution_count": 4,
   "id": "a7a6b369-054a-4f47-beaa-764c6802009e",
   "metadata": {},
   "outputs": [],
   "source": [
    "root = '/projects/wg-psel-ml/EL_images/osanghi/CornersIHDEANE/'\n",
    "\n",
    "cracks_dir = root + \"ann_npy_split_cracks/original/\"\n",
    "busbars_dir = root + \"ann_npy_split_busbars/original/\""
   ]
  },
  {
   "cell_type": "code",
   "execution_count": 5,
   "id": "5cff5f48-08db-435f-8b00-9309c129610e",
   "metadata": {},
   "outputs": [],
   "source": [
    "cracks_masks = [c for c in os.listdir(cracks_dir) if '.ipynb_checkpoints' not in c]\n",
    "busbars_masks = [c for c in os.listdir(busbars_dir) if '.ipynb_checkpoints' not in c]\n",
    "\n",
    "cracks_train_set, cracks_test_set = train_test_split(cracks_masks, test_size=None, train_size=None, random_state=None, shuffle=True, stratify=None)\n",
    "busbars_train_set, busbars_test_set = train_test_split(busbars_masks, test_size=None, train_size=None, random_state=None, shuffle=True, stratify=None)"
   ]
  },
  {
   "cell_type": "code",
   "execution_count": null,
   "id": "6f6792ca",
   "metadata": {},
   "outputs": [],
   "source": [
    "def save_split(masks, mask_dir, train_set, test_set):\n",
    "    for mask_name in masks:\n",
    "        file = re.search(r'(.+)\\.npy', mask_name).group(1)\n",
    "        img = Image.open(root + \"img/\" + file + '.jpg')\n",
    "        mask = np.load(mask_dir + mask_name)\n",
    "        if mask_name in train_set:\n",
    "            img.save(root + \"img/train/bu_\" + file + '.jpg')\n",
    "            np.save(root + \"ann/train/bu_\" + mask_name, mask)\n",
    "        elif mask_name in test_set:\n",
    "            img.save(root + \"img/test/bu_\" + file + '.jpg')\n",
    "            np.save(root + \"ann/test/bu_\" + mask_name, mask)\n",
    "            \n",
    "        else:\n",
    "            print(mask_name)"
   ]
  },
  {
   "cell_type": "code",
   "execution_count": null,
   "id": "17c8ac03",
   "metadata": {},
   "outputs": [],
   "source": [
    "save_split(cracks_masks, cracks_dir, cracks_train_set, cracks_test_set)\n",
    "save_split(busbars_masks, busbars_dir, busbars_train_set, busbars_test_set)"
   ]
  }
 ],
 "metadata": {
  "kernelspec": {
   "display_name": ".venv",
   "language": "python",
   "name": "python3"
  },
  "language_info": {
   "codemirror_mode": {
    "name": "ipython",
    "version": 3
   },
   "file_extension": ".py",
   "mimetype": "text/x-python",
   "name": "python",
   "nbconvert_exporter": "python",
   "pygments_lexer": "ipython3",
   "version": "3.12.5"
  },
  "widgets": {
   "application/vnd.jupyter.widget-state+json": {
    "state": {},
    "version_major": 2,
    "version_minor": 0
   }
  }
 },
 "nbformat": 4,
 "nbformat_minor": 5
}
