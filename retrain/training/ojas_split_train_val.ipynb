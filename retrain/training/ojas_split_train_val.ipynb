{
 "cells": [
  {
   "cell_type": "code",
   "execution_count": 1,
   "id": "128ba8b5-bc3a-4ade-b7e3-3a3e273499de",
   "metadata": {},
   "outputs": [],
   "source": [
    "import numpy as np\n",
    "import matplotlib.pyplot as plt\n",
    "\n",
    "import os\n",
    "import re\n",
    "\n",
    "from PIL import Image, ImageOps\n",
    "\n",
    "from sklearn.model_selection import train_test_split"
   ]
  },
  {
   "cell_type": "code",
   "execution_count": 4,
   "id": "a7a6b369-054a-4f47-beaa-764c6802009e",
   "metadata": {},
   "outputs": [],
   "source": [
    "root = '/projects/wg-psel-ml/EL_images/osanghi/CornersIHDEANE/'\n",
    "load_dir = os.path.join(root, 'ann_npy_split_cracks', 'all')"
   ]
  },
  {
   "cell_type": "code",
   "execution_count": 5,
   "id": "5cff5f48-08db-435f-8b00-9309c129610e",
   "metadata": {},
   "outputs": [],
   "source": [
    "masks = [c for c in os.listdir(load_dir) if '.ipynb_checkpoints' not in c]\n",
    "\n",
    "train_set, test_set = train_test_split(masks, test_size=None, train_size=None, random_state=None, shuffle=True, stratify=None)"
   ]
  },
  {
   "cell_type": "code",
   "execution_count": 7,
   "id": "1e511615-1801-4cc0-b6c0-74c2fc6308d5",
   "metadata": {},
   "outputs": [],
   "source": [
    "load_busbars_mask_dir = root + 'ann_npy_split_busbars/all/'\n",
    "load_busbars_img_dir = root + 'img_cropped/all/'\n",
    "save_mask_dir = root + 'ann2/'\n",
    "save_img_dir = root + 'img2/'\n",
    "\n",
    "for i in masks:\n",
    "    file = re.search(r'(.+)\\.npy', i).group(1)\n",
    "    img = Image.open(load_busbars_img_dir + file + '.jpg')\n",
    "    mask = np.load(load_busbars_mask_dir + i)\n",
    "    if i in train_set:\n",
    "        img.save(save_img_dir + 'train/bu_' + file + '.jpg')\n",
    "        np.save(save_mask_dir + 'train/bu_' + i, mask)\n",
    "    elif i in test_set:\n",
    "        img.save(save_img_dir + 'val/bu_' + file + '.jpg')\n",
    "        np.save(save_mask_dir + 'val/bu_' + i, mask)\n",
    "        \n",
    "    else:\n",
    "        print(i)"
   ]
  },
  {
   "cell_type": "code",
   "execution_count": 8,
   "id": "70b27fff-c7fe-4ac3-b5e6-d51224233758",
   "metadata": {},
   "outputs": [],
   "source": [
    "load_cracks_mask_dir = root + 'ann_npy_split_cracks/all/'\n",
    "load_cracks_img_dir = root + 'img_cropped/all/'\n",
    "save_mask_dir = root + 'ann2/'\n",
    "save_img_dir = root + 'img2/'\n",
    "\n",
    "for i in masks:\n",
    "    file = re.search(r'(.+)\\.npy', i).group(1)\n",
    "    img = Image.open(load_cracks_img_dir + file + '.jpg')\n",
    "    mask = np.load(load_cracks_mask_dir + i)\n",
    "    if i in train_set:\n",
    "        img.save(save_img_dir + 'train/cr_' + file + '.jpg')\n",
    "        np.save(save_mask_dir + 'train/cr_' + i, mask)\n",
    "    elif i in test_set:\n",
    "        img.save(save_img_dir + 'val/cr_' + file + '.jpg')\n",
    "        np.save(save_mask_dir + 'val/cr_' + i, mask)\n",
    "        \n",
    "    else:\n",
    "        print(i)"
   ]
  },
  {
   "cell_type": "code",
   "execution_count": null,
   "id": "1c200c68-4ede-4150-a00c-e5ffc1b5155b",
   "metadata": {},
   "outputs": [],
   "source": []
  }
 ],
 "metadata": {
  "kernelspec": {
   "display_name": ".venv",
   "language": "python",
   "name": "python3"
  },
  "language_info": {
   "codemirror_mode": {
    "name": "ipython",
    "version": 3
   },
   "file_extension": ".py",
   "mimetype": "text/x-python",
   "name": "python",
   "nbconvert_exporter": "python",
   "pygments_lexer": "ipython3",
   "version": "3.12.5"
  },
  "widgets": {
   "application/vnd.jupyter.widget-state+json": {
    "state": {},
    "version_major": 2,
    "version_minor": 0
   }
  }
 },
 "nbformat": 4,
 "nbformat_minor": 5
}
