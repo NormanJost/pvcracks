{
 "cells": [
  {
   "cell_type": "code",
   "execution_count": 12,
   "id": "128ba8b5-bc3a-4ade-b7e3-3a3e273499de",
   "metadata": {},
   "outputs": [],
   "source": [
    "import numpy as np\n",
    "import matplotlib.pyplot as plt\n",
    "\n",
    "import os\n",
    "import re\n",
    "import cv2\n",
    "\n",
    "from PIL import Image, ImageOps"
   ]
  },
  {
   "cell_type": "markdown",
   "id": "48fe9fe3-b8e4-438b-92f0-20cf280cf6be",
   "metadata": {},
   "source": [
    "This script is intended to transform original .npy files"
   ]
  },
  {
   "cell_type": "code",
   "execution_count": 13,
   "id": "d1f92110-451c-4426-87db-9eefa2fa7d1b",
   "metadata": {},
   "outputs": [],
   "source": [
    "# root = '/projects/wg-psel-ml/EL_images/osanghi/CornersIHDEANE/'\n",
    "# root = \"/Users/ojas/Desktop/saj/SANDIA/pvcracks_data/CornersIHDEANE/\"\n",
    "# root = \"/Users/ojas/Desktop/saj/SANDIA/pvcracks_data/Norman_LineCorners/\"\n",
    "# root = \"/Users/ojas/Desktop/saj/SANDIA/pvcracks_data/LineCorners_With_Original/\"\n",
    "# root = \"/Users/ojas/Desktop/saj/SANDIA/pvcracks_data/CWRU_SunEdison_Mono/\"\n",
    "root = \"/Users/ojas/Desktop/saj/SANDIA/pvcracks_data/CWRU_Dupont_Mono/\"\n",
    "\n",
    "busbars_root = root + \"ann_npy_split_busbars/\"\n",
    "cracks_root = root + \"ann_npy_split_cracks/\"\n",
    "images_root = root + \"img/\""
   ]
  },
  {
   "cell_type": "code",
   "execution_count": 14,
   "id": "665ede73-a0dd-436d-83a1-98bc1b208856",
   "metadata": {},
   "outputs": [],
   "source": [
    "def flip_save_masks(masks_root_path):\n",
    "    mask_load_path = masks_root_path + \"original/\"\n",
    "    \n",
    "    for mask_name in [c for c in os.listdir(mask_load_path)]:\n",
    "        # load_path/ + '1207 - asdasd.jpg.npy' or 'xyz.npy'\n",
    "        mask_path = mask_load_path + mask_name\n",
    "\n",
    "        if os.path.isdir(mask_path):\n",
    "            continue\n",
    "        \n",
    "        loaded_mask = np.load(mask_path, allow_pickle=True)\n",
    "\n",
    "        # mask_name\n",
    "        np.save(masks_root_path + 'all/' + mask_name, loaded_mask)\n",
    "\n",
    "        # mirror_y\n",
    "        mirror_y = np.flip(loaded_mask, 1)\n",
    "        np.save(masks_root_path + 'all/my_' + mask_name, mirror_y)\n",
    "        np.save(masks_root_path + '/mirrored_y/my_' + mask_name, mirror_y)\n",
    "\n",
    "        # mirror_x\n",
    "        mirror_x = np.flip(loaded_mask, 0)\n",
    "        np.save(masks_root_path + 'all/mx_' + mask_name, mirror_x)\n",
    "        np.save(masks_root_path + '/mirrored_x/mx_' + mask_name, mirror_x)\n",
    "\n",
    "        # mirror_xy\n",
    "        mirror_xy = np.flip(mirror_x, 1)\n",
    "        np.save(masks_root_path + 'all/mxy_' + mask_name, mirror_xy)\n",
    "        np.save(masks_root_path + '/mirrored_xy/mxy_' + mask_name, mirror_xy)"
   ]
  },
  {
   "cell_type": "code",
   "execution_count": 15,
   "id": "3acc4989",
   "metadata": {},
   "outputs": [],
   "source": [
    "def flip_save_images(images_root_path):\n",
    "    image_load_path = images_root_path + \"original/\"\n",
    "    \n",
    "    for img_name in [c for c in os.listdir(image_load_path)]:\n",
    "\n",
    "        # load_path/ + '1207 - asdasd.jpg' or 'xyz.jpg'\n",
    "        img_path = image_load_path + img_name\n",
    "\n",
    "        if os.path.isdir(img_path):\n",
    "            continue\n",
    "        \n",
    "        loaded_img = cv2.imread(img_path)\n",
    "\n",
    "        # img_name\n",
    "        cv2.imwrite(images_root_path + 'all/' + img_name, loaded_img)\n",
    "\n",
    "        # mirror_y\n",
    "        mirror_y = np.flip(loaded_img, 1)\n",
    "        cv2.imwrite(images_root_path + 'all/my_' + img_name, mirror_y)\n",
    "        cv2.imwrite(images_root_path + '/mirrored_y/my_' + img_name, mirror_y)\n",
    "\n",
    "        # mirror_x\n",
    "        mirror_x = np.flip(loaded_img, 0)\n",
    "        cv2.imwrite(images_root_path + 'all/mx_' + img_name, mirror_x)\n",
    "        cv2.imwrite(images_root_path + '/mirrored_x/mx_' + img_name, mirror_x)\n",
    "\n",
    "        # mirror_xy\n",
    "        mirror_xy = np.flip(mirror_x, 1)\n",
    "        cv2.imwrite(images_root_path + 'all/mxy_' + img_name, mirror_xy)\n",
    "        cv2.imwrite(images_root_path + '/mirrored_xy/mxy_' + img_name, mirror_xy)"
   ]
  },
  {
   "cell_type": "code",
   "execution_count": 16,
   "id": "de44d530",
   "metadata": {},
   "outputs": [],
   "source": [
    "flip_save_masks(busbars_root)"
   ]
  },
  {
   "cell_type": "code",
   "execution_count": 17,
   "id": "5c8e6b73",
   "metadata": {},
   "outputs": [],
   "source": [
    "flip_save_masks(cracks_root)"
   ]
  },
  {
   "cell_type": "code",
   "execution_count": 18,
   "id": "32349a60-a152-476a-abab-82e589e4c2a8",
   "metadata": {},
   "outputs": [],
   "source": [
    "flip_save_images(images_root)"
   ]
  }
 ],
 "metadata": {
  "kernelspec": {
   "display_name": ".venv",
   "language": "python",
   "name": "python3"
  },
  "language_info": {
   "codemirror_mode": {
    "name": "ipython",
    "version": 3
   },
   "file_extension": ".py",
   "mimetype": "text/x-python",
   "name": "python",
   "nbconvert_exporter": "python",
   "pygments_lexer": "ipython3",
   "version": "3.12.7"
  },
  "widgets": {
   "application/vnd.jupyter.widget-state+json": {
    "state": {},
    "version_major": 2,
    "version_minor": 0
   }
  }
 },
 "nbformat": 4,
 "nbformat_minor": 5
}
