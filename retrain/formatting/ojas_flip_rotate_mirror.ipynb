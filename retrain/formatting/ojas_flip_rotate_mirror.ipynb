{
 "cells": [
  {
   "cell_type": "code",
   "execution_count": 1,
   "id": "128ba8b5-bc3a-4ade-b7e3-3a3e273499de",
   "metadata": {},
   "outputs": [],
   "source": [
    "import numpy as np\n",
    "import matplotlib.pyplot as plt\n",
    "\n",
    "import os\n",
    "import re\n",
    "import cv2\n",
    "\n",
    "from PIL import Image, ImageOps"
   ]
  },
  {
   "cell_type": "markdown",
   "id": "48fe9fe3-b8e4-438b-92f0-20cf280cf6be",
   "metadata": {},
   "source": [
    "This script is intended to transform original .npy files"
   ]
  },
  {
   "cell_type": "code",
   "execution_count": 3,
   "id": "d1f92110-451c-4426-87db-9eefa2fa7d1b",
   "metadata": {},
   "outputs": [],
   "source": [
    "root = '/projects/wg-psel-ml/EL_images/osanghi/CornersIHDEANE/'\n",
    "\n",
    "busbars_load_path = root + 'ann_npy_split_busbars/original/'\n",
    "cracks_load_path = root + 'ann_npy_split_cracks/original/'\n",
    "img_load_path = root + 'img/original/'"
   ]
  },
  {
   "cell_type": "code",
   "execution_count": 7,
   "id": "665ede73-a0dd-436d-83a1-98bc1b208856",
   "metadata": {},
   "outputs": [],
   "source": [
    "def flip_save_masks(load_path):\n",
    "    for mask_name in [c for c in os.listdir(load_path) if 'ipynb' not in c]:\n",
    "\n",
    "        # load_path/ + '1207 - asdasd.jpg.npy' or 'xyz.npy'\n",
    "        mask_path = load_path + mask_name\n",
    "\n",
    "        if os.path.isdir(mask_path):\n",
    "            continue\n",
    "            # i += 1\n",
    "            # img_path = path + os.listdir(path)[i]\n",
    "        \n",
    "        loaded_mask = np.load(mask_path, allow_pickle=True)\n",
    "\n",
    "        # mask_name\n",
    "        np.save(root + 'all/' + mask_name, loaded_mask)\n",
    "\n",
    "        # mirror_y\n",
    "        mirror_y = np.flip(loaded_mask, 1)\n",
    "        np.save(root + 'all/my_' + mask_name, mirror_y)\n",
    "        np.save(root + '/mirrored_y/my_' + mask_name, mirror_y)\n",
    "\n",
    "        # mirror_x\n",
    "        mirror_x = np.flip(loaded_mask, 0)\n",
    "        np.save(root + 'all/mx_' + mask_name, mirror_x)\n",
    "        np.save(root + '/mirrored_x/mx_' + mask_name, mirror_x)\n",
    "\n",
    "        # mirror_xy\n",
    "        mirror_xy = np.flip(mirror_x, 1)\n",
    "        np.save(root + 'all/mxy_' + mask_name, mirror_xy)\n",
    "        np.save(root + '/mirrored_xy/mxy_' + mask_name, mirror_xy)"
   ]
  },
  {
   "cell_type": "code",
   "execution_count": null,
   "id": "3acc4989",
   "metadata": {},
   "outputs": [],
   "source": [
    "def flip_save_images(load_path):\n",
    "    for img_name in [c for c in os.listdir(load_path) if 'ipynb' not in c]:\n",
    "\n",
    "        # load_path/ + '1207 - asdasd.jpg' or 'xyz.jpg'\n",
    "        img_path = load_path + img_name\n",
    "\n",
    "        if os.path.isdir(img_path):\n",
    "            continue\n",
    "            # i += 1\n",
    "            # img_path = path + os.listdir(path)[i]\n",
    "        \n",
    "        loaded_img = cv2.imread(img_path)\n",
    "\n",
    "        # img_name\n",
    "        # cv2.imwrite(root + 'all/' + img_name, loaded_img)\n",
    "\n",
    "        # mirror_y\n",
    "        mirror_y = np.flip(loaded_img, 1)\n",
    "        cv2.imwrite(root + 'all/my_' + img_name, mirror_y)\n",
    "        cv2.imwrite(root + '/mirrored_y/my_' + img_name, mirror_y)\n",
    "\n",
    "        # mirror_x\n",
    "        mirror_x = np.flip(loaded_img, 0)\n",
    "        cv2.imwrite(root + 'all/mx_' + img_name, mirror_x)\n",
    "        cv2.imwrite(root + '/mirrored_x/mx_' + img_name, mirror_x)\n",
    "\n",
    "        # mirror_xy\n",
    "        mirror_xy = np.flip(mirror_x, 1)\n",
    "        cv2.imwrite(root + 'all/mxy_' + img_name, mirror_xy)\n",
    "        cv2.imwrite(root + '/mirrored_xy/mxy_' + img_name, mirror_xy)"
   ]
  },
  {
   "cell_type": "code",
   "execution_count": null,
   "id": "de44d530",
   "metadata": {},
   "outputs": [],
   "source": [
    "flip_save_masks(busbars_load_path)"
   ]
  },
  {
   "cell_type": "code",
   "execution_count": null,
   "id": "5c8e6b73",
   "metadata": {},
   "outputs": [],
   "source": [
    "flip_save_masks(cracks_load_path)"
   ]
  },
  {
   "cell_type": "code",
   "execution_count": null,
   "id": "32349a60-a152-476a-abab-82e589e4c2a8",
   "metadata": {},
   "outputs": [],
   "source": [
    "flip_save_images(img_load_path)"
   ]
  }
 ],
 "metadata": {
  "kernelspec": {
   "display_name": ".venv",
   "language": "python",
   "name": "python3"
  },
  "language_info": {
   "codemirror_mode": {
    "name": "ipython",
    "version": 3
   },
   "file_extension": ".py",
   "mimetype": "text/x-python",
   "name": "python",
   "nbconvert_exporter": "python",
   "pygments_lexer": "ipython3",
   "version": "3.12.5"
  },
  "widgets": {
   "application/vnd.jupyter.widget-state+json": {
    "state": {},
    "version_major": 2,
    "version_minor": 0
   }
  }
 },
 "nbformat": 4,
 "nbformat_minor": 5
}
