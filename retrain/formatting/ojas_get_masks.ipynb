{
 "cells": [
  {
   "cell_type": "code",
   "execution_count": 14,
   "id": "35203946-cc82-491f-90ee-dbedb1e8898e",
   "metadata": {},
   "outputs": [],
   "source": [
    "import json\n",
    "import numpy as np\n",
    "import matplotlib.pyplot as plt\n",
    "import matplotlib as mpl\n",
    "import matplotlib.patches as mpatches\n",
    "import zlib, base64\n",
    "from skimage.io import imread\n",
    "import cv2 as cv\n",
    "import os\n",
    "import re\n",
    "import torch\n",
    "import torchvision.transforms.functional as F\n",
    "from PIL import Image\n",
    "from torchvision import transforms\n",
    "from torchvision.utils import draw_segmentation_masks\n",
    "import skimage\n",
    "from skimage import io\n",
    "\n",
    "import itertools"
   ]
  },
  {
   "cell_type": "code",
   "execution_count": null,
   "id": "57fba07d",
   "metadata": {},
   "outputs": [],
   "source": [
    "category_mapping = {0: \"empty\", 1: \"dark\", 2: \"busbar\", 3: \"crack\", 4: \"corner\"}"
   ]
  },
  {
   "cell_type": "code",
   "execution_count": 1,
   "id": "729e8f95-6264-45e4-8749-85e2cbf14000",
   "metadata": {},
   "outputs": [],
   "source": [
    "def load_mask(mask_path, image):\n",
    "\n",
    "    # Creating an array of zeros for each feature type. There may be\n",
    "    # multiple separate objects of the same feature type, and this\n",
    "    # is how we store objects of the same feature class together.\n",
    "\n",
    "    category_dict = {\n",
    "        \"dark\": np.zeros(image.shape[:-1]).astype(bool),\n",
    "        \"busbar\": np.zeros(image.shape[:-1]).astype(bool),\n",
    "        \"crack\": np.zeros(image.shape[:-1]).astype(bool),\n",
    "        \"corner\": np.zeros(image.shape[:-1]).astype(bool),\n",
    "    }\n",
    "    categories_list = [\"dark\", \"busbar\", \"crack\", \"corner\"]\n",
    "\n",
    "    with open(mask_path, \"r\") as file:\n",
    "        data = json.load(file)\n",
    "\n",
    "    try:\n",
    "        objects = data[\"objects\"]\n",
    "    except KeyError:\n",
    "        objects = data[\"annotation\"][\"objects\"]\n",
    "\n",
    "    for obj in objects:\n",
    "        code = obj[\"bitmap\"][\"data\"]\n",
    "        origin = obj[\"bitmap\"][\"origin\"]\n",
    "\n",
    "        z = zlib.decompress(base64.b64decode(code))\n",
    "        n = np.frombuffer(z, np.uint8)\n",
    "        mask = cv.imdecode(n, cv.IMREAD_UNCHANGED)[:, :, 3].astype(bool)\n",
    "\n",
    "        # This is some unfortunate maneuvering to address the fact that\n",
    "        # bitmap annotations do not usually come in the same size as the\n",
    "        # image from which they were labeled, and so it is necessary to\n",
    "        # situate the annotation in an otherwise empty array that is the\n",
    "        # same size as the image\n",
    "\n",
    "        mask_center = np.array([mask.shape[1] / 2, mask.shape[0] / 2])\n",
    "        mask_center += origin\n",
    "        up = np.zeros((origin[1], mask.shape[1]))\n",
    "        mask2 = np.vstack((up, mask))\n",
    "        left = np.zeros((mask2.shape[0], origin[0]))\n",
    "        mask3 = np.hstack((left, mask2))\n",
    "        down = np.zeros((image.shape[0] - mask3.shape[0], mask3.shape[1]))\n",
    "        mask4 = np.vstack((mask3, down))\n",
    "        right = np.zeros((mask4.shape[0], image.shape[1] - mask4.shape[1]))\n",
    "        mask5 = np.hstack((mask4, right)).astype(bool)\n",
    "\n",
    "        # Save the data from each object in the appropriate array depending on\n",
    "        # its feature type\n",
    "\n",
    "        for category in categories_list:\n",
    "            if category in obj[\"classTitle\"].lower():\n",
    "                category_dict[category] = np.logical_or(\n",
    "                    category_dict[category], mask5\n",
    "                ).astype(bool)\n",
    "\n",
    "    return category_dict\n",
    "\n",
    "\n",
    "def stack_masks(\n",
    "    category_dict, order=[3, 2, 1, 0], mapping={0: 1, 1: 2, 2: 3, 3: 4}\n",
    "):\n",
    "\n",
    "    # Stack the four n_x by n_y feature arrays\n",
    "    all_masks = torch.dstack([torch.tensor(v) for v in category_dict.values()]).permute(\n",
    "        2, 0, 1\n",
    "    )\n",
    "\n",
    "    new_tensor = torch.zeros(\n",
    "        [all_masks.shape[1], all_masks.shape[2]], dtype=torch.float64\n",
    "    )\n",
    "\n",
    "    for i, j in itertools.product(range(image.shape[0]), range(image.shape[1])):\n",
    "\n",
    "        if all_masks[order[0], i, j]:\n",
    "            val = mapping[order[0]]\n",
    "        elif all_masks[order[1], i, j]:\n",
    "            val = mapping[order[1]]\n",
    "        elif all_masks[order[2], i, j]:\n",
    "            val = mapping[order[2]]\n",
    "        elif all_masks[order[3], i, j]:\n",
    "            val = mapping[order[3]]\n",
    "        else:\n",
    "            val = 0\n",
    "\n",
    "        new_tensor[i, j] = val\n",
    "\n",
    "    return new_tensor"
   ]
  },
  {
   "cell_type": "code",
   "execution_count": 6,
   "id": "0c4f7a55-12f7-463d-927f-296b82bad00d",
   "metadata": {},
   "outputs": [],
   "source": [
    "root = '/projects/wg-psel-ml/EL_images/osanghi/CornersIHDEANE/'\n",
    "\n",
    "img_folder = root + 'img/'\n",
    "mask_folder = root + 'ann/'\n",
    "\n",
    "files = [c for c in os.listdir(mask_folder)]\n",
    "\n",
    "n_masks = [re.search(r'(.+)\\.jpg\\.json', f).group(1) for f in files]"
   ]
  },
  {
   "cell_type": "code",
   "execution_count": null,
   "id": "12c951b0",
   "metadata": {},
   "outputs": [],
   "source": [
    "def plot_and_show_labels(cracks_mask):\n",
    "    fig, ax = plt.subplots()\n",
    "\n",
    "    clim = (0, 4)\n",
    "    ax.imshow(cracks_mask, clim=clim, interpolation='None')\n",
    "\n",
    "    # Do legend\n",
    "    cmap = mpl.colormaps['viridis'].resampled(5)  # define the colormap\n",
    "    cmaplist = [cmap(i) for i in range(5)]\n",
    "    handles, labels = ax.get_legend_handles_labels()\n",
    "    for c, classlabel in zip(cmaplist, [f'({k}) {v}' for k, v in category_mapping.items()]):\n",
    "            patch = mpatches.Patch(color=c, label=classlabel, ec='k')\n",
    "            handles.append(patch)\n",
    "    ax.legend(handles=handles, fontsize='x-small')\n",
    "\n",
    "    ax.axis('off')"
   ]
  },
  {
   "cell_type": "code",
   "execution_count": null,
   "id": "5ed43579-2433-4f14-b101-46c7c298dd45",
   "metadata": {},
   "outputs": [],
   "source": [
    "n = n_masks[2]\n",
    "mask_path = os.path.join(mask_folder, f'{n}.jpg.json')\n",
    "img_path = os.path.join(img_folder, f'{n}.jpg')\n",
    "image = imread(img_path)\n",
    "category_dict = load_mask(mask_path, image)\n",
    "# plt.imshow(image)"
   ]
  },
  {
   "cell_type": "code",
   "execution_count": null,
   "id": "ea4e0c52",
   "metadata": {},
   "outputs": [],
   "source": [
    "default_mask = stack_masks(category_dict)\n",
    "\n",
    "plot_and_show_labels(default_mask)"
   ]
  },
  {
   "cell_type": "code",
   "execution_count": 15,
   "id": "6149e1ff-fa64-4090-aaae-38c7b23e4f24",
   "metadata": {},
   "outputs": [
    {
     "data": {
      "image/png": "[encoded data removed]",
      "text/plain": [
       "<Figure size 640x480 with 1 Axes>"
      ]
     },
     "metadata": {},
     "output_type": "display_data"
    }
   ],
   "source": [
    "cracks_mask = stack_masks(category_dict, order=[2, 0, 1, 3])\n",
    "\n",
    "plot_and_show_labels(cracks_mask)"
   ]
  },
  {
   "cell_type": "code",
   "execution_count": null,
   "id": "9384a12b",
   "metadata": {},
   "outputs": [],
   "source": [
    "busbar_mask = stack_masks(category_dict, order=[1, 0, 2, 3])\n",
    "\n",
    "plot_and_show_labels(cracks_mask)"
   ]
  },
  {
   "cell_type": "code",
   "execution_count": 18,
   "id": "e9c22119-c7dc-4c4f-a751-2c18da814a0e",
   "metadata": {},
   "outputs": [
    {
     "name": "stdout",
     "output_type": "stream",
     "text": [
      "486 - Module 4 (EL Image)\n",
      "516 - TOPCon_3_front_post (EL Image)\n",
      "511 - TOPCon_1_front_post (EL Image)\n",
      "512 - TOPCon_1_front_post_2 (EL Image)\n"
     ]
    }
   ],
   "source": [
    "for n in n_masks:\n",
    "    mask_path = os.path.join(mask_folder, f'{n}.jpg.json')\n",
    "    img_path = os.path.join(img_folder, f'{n}.jpg')\n",
    "    try:\n",
    "        image = imread(img_path)\n",
    "        category_dict = load_mask(mask_path, image)\n",
    "        save_dir_busbars = os.path.join(root, 'ann_npy_split_busbars', 'original', f'{n}.npy')\n",
    "        save_dir_cracks = os.path.join(root, 'ann_npy_split_cracks', 'original', f'{n}.npy')\n",
    "        \n",
    "        cracks_mask = stack_masks(category_dict, order=[2, 0, 1, 3])\n",
    "        busbars_mask = stack_masks(category_dict, order=[1, 0, 2, 3])\n",
    "        \n",
    "        np.save(save_dir_busbars, busbars_mask)\n",
    "        np.save(save_dir_cracks, cracks_mask)\n",
    "    except Exception as e:\n",
    "        print(n)\n",
    "        print(e)\n",
    "        continue"
   ]
  }
 ],
 "metadata": {
  "kernelspec": {
   "display_name": ".venv",
   "language": "python",
   "name": "python3"
  },
  "language_info": {
   "codemirror_mode": {
    "name": "ipython",
    "version": 3
   },
   "file_extension": ".py",
   "mimetype": "text/x-python",
   "name": "python",
   "nbconvert_exporter": "python",
   "pygments_lexer": "ipython3",
   "version": "3.12.5"
  },
  "widgets": {
   "application/vnd.jupyter.widget-state+json": {
    "state": {},
    "version_major": 2,
    "version_minor": 0
   }
  }
 },
 "nbformat": 4,
 "nbformat_minor": 5
}
