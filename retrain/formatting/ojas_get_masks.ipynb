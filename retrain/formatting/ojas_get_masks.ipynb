{
 "cells": [
  {
   "cell_type": "code",
   "execution_count": 1,
   "id": "35203946-cc82-491f-90ee-dbedb1e8898e",
   "metadata": {},
   "outputs": [],
   "source": [
    "import json\n",
    "import numpy as np\n",
    "import matplotlib.pyplot as plt\n",
    "import matplotlib as mpl\n",
    "import matplotlib.patches as mpatches\n",
    "import zlib, base64\n",
    "from skimage.io import imread\n",
    "import cv2 as cv\n",
    "import os\n",
    "import re\n",
    "import torch\n",
    "import torchvision.transforms.functional as F\n",
    "from PIL import Image\n",
    "from torchvision import transforms\n",
    "from torchvision.utils import draw_segmentation_masks\n",
    "import skimage\n",
    "from skimage import io\n",
    "\n",
    "import itertools"
   ]
  },
  {
   "cell_type": "code",
   "execution_count": 2,
   "id": "7a12ac71",
   "metadata": {},
   "outputs": [],
   "source": [
    "# root = '/projects/wg-psel-ml/EL_images/osanghi/CornersIHDEANE/'\n",
    "# root = \"/Users/ojas/Desktop/saj/SANDIA/pvcracks_data/CornersIHDEANE/\"\n",
    "# root = \"/Users/ojas/Desktop/saj/SANDIA/pvcracks_data/Norman_LineCorners/\"\n",
    "root = \"/Users/ojas/Desktop/saj/SANDIA/pvcracks_data/LineCorners_With_Original/\"\n",
    "\n",
    "img_folder = root + 'img/original/'\n",
    "mask_folder = root + 'ann_json/'"
   ]
  },
  {
   "cell_type": "code",
   "execution_count": 3,
   "id": "57fba07d",
   "metadata": {},
   "outputs": [],
   "source": [
    "category_mapping = {0: \"empty\", 1: \"dark\", 2: \"busbar\", 3: \"crack\", 4: \"corner\"}"
   ]
  },
  {
   "cell_type": "code",
   "execution_count": 4,
   "id": "729e8f95-6264-45e4-8749-85e2cbf14000",
   "metadata": {},
   "outputs": [],
   "source": [
    "def load_mask(mask_path, image):\n",
    "\n",
    "    # Creating an array of zeros for each feature type. There may be\n",
    "    # multiple separate objects of the same feature type, and this\n",
    "    # is how we store objects of the same feature class together.\n",
    "\n",
    "    category_dict = {\n",
    "        \"dark\": np.zeros(image.shape[:-1]).astype(bool),\n",
    "        \"busbar\": np.zeros(image.shape[:-1]).astype(bool),\n",
    "        \"crack\": np.zeros(image.shape[:-1]).astype(bool),\n",
    "        \"corner\": np.zeros(image.shape[:-1]).astype(bool),\n",
    "    }\n",
    "    categories_list = [\"dark\", \"busbar\", \"crack\", \"corner\"]\n",
    "\n",
    "    with open(mask_path, \"r\") as file:\n",
    "        data = json.load(file)\n",
    "\n",
    "    try:\n",
    "        objects = data[\"objects\"]\n",
    "    except KeyError:\n",
    "        objects = data[\"annotation\"][\"objects\"]\n",
    "\n",
    "    for obj in objects:\n",
    "        code = obj[\"bitmap\"][\"data\"]\n",
    "        origin = obj[\"bitmap\"][\"origin\"]\n",
    "\n",
    "        z = zlib.decompress(base64.b64decode(code))\n",
    "        n = np.frombuffer(z, np.uint8)\n",
    "        mask = cv.imdecode(n, cv.IMREAD_UNCHANGED)[:, :, 3].astype(bool)\n",
    "\n",
    "        # This is some unfortunate maneuvering to address the fact that\n",
    "        # bitmap annotations do not usually come in the same size as the\n",
    "        # image from which they were labeled, and so it is necessary to\n",
    "        # situate the annotation in an otherwise empty array that is the\n",
    "        # same size as the image\n",
    "\n",
    "        mask_center = np.array([mask.shape[1] / 2, mask.shape[0] / 2])\n",
    "        mask_center += origin\n",
    "        up = np.zeros((origin[1], mask.shape[1]))\n",
    "        mask2 = np.vstack((up, mask))\n",
    "        left = np.zeros((mask2.shape[0], origin[0]))\n",
    "        mask3 = np.hstack((left, mask2))\n",
    "        down = np.zeros((image.shape[0] - mask3.shape[0], mask3.shape[1]))\n",
    "        mask4 = np.vstack((mask3, down))\n",
    "        right = np.zeros((mask4.shape[0], image.shape[1] - mask4.shape[1]))\n",
    "        mask5 = np.hstack((mask4, right)).astype(bool)\n",
    "\n",
    "        # Save the data from each object in the appropriate array depending on\n",
    "        # its feature type\n",
    "\n",
    "        for category in categories_list:\n",
    "            if category in obj[\"classTitle\"].lower():\n",
    "                category_dict[category] = np.logical_or(\n",
    "                    category_dict[category], mask5\n",
    "                ).astype(bool)\n",
    "\n",
    "    return category_dict\n",
    "\n",
    "\n",
    "def stack_masks(\n",
    "    category_dict, order=[3, 2, 1, 0], mapping={0: 1, 1: 2, 2: 3, 3: 4}\n",
    "):\n",
    "\n",
    "    # Stack the four n_x by n_y feature arrays\n",
    "    all_masks = torch.dstack([torch.tensor(v) for v in category_dict.values()]).permute(\n",
    "        2, 0, 1\n",
    "    )\n",
    "\n",
    "    new_tensor = torch.zeros(\n",
    "        [all_masks.shape[1], all_masks.shape[2]], dtype=torch.float64\n",
    "    )\n",
    "\n",
    "    for i, j in itertools.product(range(image.shape[0]), range(image.shape[1])):\n",
    "\n",
    "        if all_masks[order[0], i, j]:\n",
    "            val = mapping[order[0]]\n",
    "        elif all_masks[order[1], i, j]:\n",
    "            val = mapping[order[1]]\n",
    "        elif all_masks[order[2], i, j]:\n",
    "            val = mapping[order[2]]\n",
    "        elif all_masks[order[3], i, j]:\n",
    "            val = mapping[order[3]]\n",
    "        else:\n",
    "            val = 0\n",
    "\n",
    "        new_tensor[i, j] = val\n",
    "\n",
    "    return new_tensor"
   ]
  },
  {
   "cell_type": "code",
   "execution_count": 5,
   "id": "0c4f7a55-12f7-463d-927f-296b82bad00d",
   "metadata": {},
   "outputs": [],
   "source": [
    "files = [c for c in os.listdir(mask_folder)]\n",
    "\n",
    "n_masks = [re.search(r'(.+)\\.jpg\\.json', f).group(1) for f in files]"
   ]
  },
  {
   "cell_type": "code",
   "execution_count": 6,
   "id": "12c951b0",
   "metadata": {},
   "outputs": [],
   "source": [
    "def plot_and_show_labels(cracks_mask):\n",
    "    fig, ax = plt.subplots()\n",
    "\n",
    "    clim = (0, 4)\n",
    "    ax.imshow(cracks_mask, clim=clim, interpolation='None')\n",
    "\n",
    "    # Do legend\n",
    "    cmap = mpl.colormaps['viridis'].resampled(5)  # define the colormap\n",
    "    cmaplist = [cmap(i) for i in range(5)]\n",
    "    handles, labels = ax.get_legend_handles_labels()\n",
    "    for c, classlabel in zip(cmaplist, [f'({k}) {v}' for k, v in category_mapping.items()]):\n",
    "            patch = mpatches.Patch(color=c, label=classlabel, ec='k')\n",
    "            handles.append(patch)\n",
    "    ax.legend(handles=handles, fontsize='x-small')\n",
    "\n",
    "    ax.axis('off')"
   ]
  },
  {
   "cell_type": "code",
   "execution_count": 7,
   "id": "5ed43579-2433-4f14-b101-46c7c298dd45",
   "metadata": {},
   "outputs": [],
   "source": [
    "n = n_masks[2]\n",
    "mask_path = os.path.join(mask_folder, f'{n}.jpg.json')\n",
    "img_path = os.path.join(img_folder, f'{n}.jpg')\n",
    "image = imread(img_path)\n",
    "category_dict = load_mask(mask_path, image)\n",
    "# plt.imshow(image)"
   ]
  },
  {
   "cell_type": "code",
   "execution_count": 8,
   "id": "ea4e0c52",
   "metadata": {},
   "outputs": [
    {
     "data": {
      "image/png": "[encoded data removed]",
      "text/plain": [
       "<Figure size 640x480 with 1 Axes>"
      ]
     },
     "metadata": {},
     "output_type": "display_data"
    }
   ],
   "source": [
    "default_mask = stack_masks(category_dict)\n",
    "\n",
    "plot_and_show_labels(default_mask)"
   ]
  },
  {
   "cell_type": "code",
   "execution_count": 9,
   "id": "6149e1ff-fa64-4090-aaae-38c7b23e4f24",
   "metadata": {},
   "outputs": [
    {
     "data": {
      "image/png": "[encoded data removed]",
      "text/plain": [
       "<Figure size 640x480 with 1 Axes>"
      ]
     },
     "metadata": {},
     "output_type": "display_data"
    }
   ],
   "source": [
    "cracks_mask = stack_masks(category_dict, order=[2, 0, 1, 3])\n",
    "\n",
    "plot_and_show_labels(cracks_mask)"
   ]
  },
  {
   "cell_type": "code",
   "execution_count": 10,
   "id": "9384a12b",
   "metadata": {},
   "outputs": [
    {
     "data": {
      "image/png": "[encoded data removed]",
      "text/plain": [
       "<Figure size 640x480 with 1 Axes>"
      ]
     },
     "metadata": {},
     "output_type": "display_data"
    }
   ],
   "source": [
    "busbar_mask = stack_masks(category_dict, order=[1, 0, 2, 3])\n",
    "\n",
    "plot_and_show_labels(busbar_mask)"
   ]
  },
  {
   "cell_type": "code",
   "execution_count": 11,
   "id": "e9c22119-c7dc-4c4f-a751-2c18da814a0e",
   "metadata": {},
   "outputs": [
    {
     "name": "stdout",
     "output_type": "stream",
     "text": [
      "Saved (1 / 92): 1240 - NICE_SHJ_2_Isc (EL Image)\n",
      "Saved (2 / 92): 1148 - Ea_SHJ_POE_3_Isc (EL Image)\n",
      "Saved (3 / 92): -1_EL_18.09.2023-15-53-07_unknownID_ASU Minisample_SHJ8_117\n",
      "Saved (4 / 92): 0_EL_18.09.2023-14-42-47_unknownID_ASU Minisample_04_48\n",
      "Saved (5 / 92): 2_EL_18.09.2023-15-03-23_unknownID_ASU Minisample_08_71\n",
      "Saved (6 / 92): 3_EL_18.09.2023-14-42-47_unknownID_ASU Minisample_03_48\n",
      "Saved (7 / 92): 1227 - Old TC for PID_3_rear_Isc (EL Image)\n",
      "Saved (8 / 92): 2_EL_18.09.2023-15-34-42_unknownID_ASU Minisample_SHJ3_97\n",
      "Saved (9 / 92): 1_EL_18.09.2023-14-55-55_unknownID_ASU Minisample_06_62\n",
      "Saved (10 / 92): 1_EL_18.09.2023-14-45-47_unknownID_ASU Minisample_09_51\n",
      "Saved (11 / 92): 0_EL_18.09.2023-15-00-34_unknownID_ASU Minisample_07_68\n",
      "Saved (12 / 92): 1152 - Ea_SHJ_POE_4_Isc (EL Image)\n",
      "Saved (13 / 92): 1_EL_18.09.2023-15-40-40_unknownID_ASU Minisample_SHJ5_103\n",
      "Saved (14 / 92): 1145 - Ea_SHJ_POE_2_Isc (EL Image)\n",
      "Saved (15 / 92): 2_EL_18.09.2023-14-51-50_unknownID_ASU Minisample_05_57\n",
      "Saved (16 / 92): 3_EL_18.09.2023-14-45-47_unknownID_ASU Minisample_09_51\n",
      "Saved (17 / 92): 2_EL_18.09.2023-15-00-34_unknownID_ASU Minisample_07_68\n",
      "Saved (18 / 92): 1179 - Ea_TC_EVA_2_Isc (EL Image)\n",
      "Saved (19 / 92): 0_EL_18.09.2023-15-03-23_unknownID_ASU Minisample_08_71\n",
      "Saved (20 / 92): 1185 - Ea_TC_EVA_4_Isc (EL Image)\n",
      "Saved (21 / 92): 1_EL_18.09.2023-14-42-47_unknownID_ASU Minisample_03_48\n",
      "Saved (22 / 92): 2_EL_18.09.2023-15-27-31_unknownID_ASU Minisample_SHJ1_91\n",
      "Saved (23 / 92): 3_EL_18.09.2023-14-55-55_unknownID_ASU Minisample_06_62\n",
      "Saved (24 / 92): 0_EL_18.09.2023-15-53-07_unknownID_ASU Minisample_SHJ8_117\n",
      "Saved (25 / 92): 1_EL_18.09.2023-15-43-19_unknownID_ASU Minisample_SHJ6_106\n",
      "Saved (26 / 92): 2_EL_18.09.2023-14-42-47_unknownID_ASU Minisample_04_48\n",
      "Saved (27 / 92): 0_EL_18.09.2023-15-37-22_unknownID_ASU Minisample_SHJ4_100\n",
      "Saved (28 / 92): 0_EL_2x2_NQ-03_20230915_125152.jpg\n",
      "Saved (29 / 92): 0_EL_18.09.2023-15-31-57_unknownID_ASU Minisample_SHJ2_94\n",
      "Saved (30 / 92): 0_EL_18.09.2023-15-40-40_unknownID_ASU Minisample_SHJ5_103\n",
      "Saved (31 / 92): 1166 - Ea_SHJ_EVA_3_Isc (EL Image)\n",
      "Saved (32 / 92): 1243 - NICE_TC_Old_Post_Isc (EL Image)\n",
      "Saved (33 / 92): 0_EL_18.09.2023-14-38-10_unknownID_ASU Minisample_02_43\n",
      "Saved (34 / 92): 1204 - Ea_TC_POE_5_Isc (EL Image).jpg\n",
      "Saved (35 / 92): 1224 - Old TC for PID_3_front_Isc (EL Image).jpg\n",
      "Saved (36 / 92): 1_EL_18.09.2023-15-34-42_unknownID_ASU Minisample_SHJ3_97\n",
      "Saved (37 / 92): 2_EL_18.09.2023-14-38-10_unknownID_ASU Minisample_02_43\n",
      "Saved (38 / 92): 1155 - Ea_SHJ_POE_5_Isc (EL Image)\n",
      "Saved (39 / 92): 1_EL_18.09.2023-15-27-31_unknownID_ASU Minisample_SHJ1_91\n",
      "Saved (40 / 92): 1207 - Old TC for PID_1_front_Isc (EL Image)\n",
      "Saved (41 / 92): 1237 - NICE_SHJ_1_Isc (EL Image)\n",
      "Saved (42 / 92): 1_EL_18.09.2023-15-53-07_unknownID_ASU Minisample_SHJ8_117\n",
      "Saved (43 / 92): 1182 - Ea_TC_EVA_3_Isc (EL Image)\n",
      "Saved (44 / 92): 0_EL_18.09.2023-15-43-19_unknownID_ASU Minisample_SHJ6_106\n",
      "Saved (45 / 92): 0_EL_2x2_NQ-02_20230915_130525.jpg\n",
      "Saved (46 / 92): 1_EL_2x2_NQ-03_20230915_125152\n",
      "Saved (47 / 92): 1_EL_18.09.2023-15-37-22_unknownID_ASU Minisample_SHJ4_100\n",
      "Saved (48 / 92): 2_EL_2x2_NQ-03_20230915_125152\n",
      "Saved (49 / 92): 1302 - NICE TOPCon 2 Front Enapsulated (EL Image)\n",
      "Saved (50 / 92): 3_EL_2x2_NQ-03_20230915_125152\n",
      "Saved (51 / 92): 3_EL_18.09.2023-15-40-40_unknownID_ASU Minisample_SHJ5_103\n",
      "Saved (52 / 92): 3_EL_2x2_NQ-04_20230915_130134\n",
      "Saved (53 / 92): 2_EL_2x2_NQ-04_20230915_130134\n",
      "Saved (54 / 92): 1217 - Old TC for PID_2_front_Isc (EL Image)\n",
      "Saved (55 / 92): 2_EL_2x2_NQ-02_20230915_130525\n",
      "Saved (56 / 92): 0_EL_18.09.2023-15-34-42_unknownID_ASU Minisample_SHJ3_97\n",
      "Saved (57 / 92): 1_EL_2x2_NQ-02_20230915_130525\n",
      "Saved (58 / 92): 1_EL_2x2_NQ-04_20230915_130134\n",
      "Saved (59 / 92): 1_EL_2x2_NQ-01_20230915_125923.jpg\n",
      "Saved (60 / 92): 1220 - Old TC for PID_2_rear_Isc (EL Image)\n",
      "Saved (61 / 92): 1_EL_18.09.2023-14-38-10_unknownID_ASU Minisample_02_43\n",
      "Saved (62 / 92): 0_EL_2x2_NQ-04_20230915_130134\n",
      "Saved (63 / 92): 3_EL_18.09.2023-15-43-19_unknownID_ASU Minisample_SHJ6_106\n",
      "Saved (64 / 92): 1191 - Ea_TC_POE_1_Isc (EL Image)\n",
      "Saved (65 / 92): 2_EL_18.09.2023-15-37-22_unknownID_ASU Minisample_SHJ4_100\n",
      "Saved (66 / 92): 1212 - Old TC for PID_1_rear_Isc (EL Image).jpg\n",
      "Saved (67 / 92): 1303 - NICE TOPCon 1 Front Enapsulated (EL Image)\n",
      "Saved (68 / 92): 1188 - Ea_TC_EVA_Isc (EL Image)\n",
      "Saved (69 / 92): 3_EL_18.09.2023-15-34-42_unknownID_ASU Minisample_SHJ3_97\n",
      "Saved (70 / 92): 1_EL_18.09.2023-14-42-47_unknownID_ASU Minisample_04_48\n",
      "Saved (71 / 92): 2_EL_18.09.2023-15-40-40_unknownID_ASU Minisample_SHJ5_103\n",
      "Saved (72 / 92): 2_EL_18.09.2023-15-31-57_unknownID_ASU Minisample_SHJ2_94\n",
      "Saved (73 / 92): 0_EL_18.09.2023-14-55-55_unknownID_ASU Minisample_06_62\n",
      "Saved (74 / 92): 1194 - Ea_TC_POE_2_Isc (EL Image)\n",
      "Saved (75 / 92): 2_EL_18.09.2023-14-42-47_unknownID_ASU Minisample_03_48\n",
      "Saved (76 / 92): 3_EL_18.09.2023-15-03-23_unknownID_ASU Minisample_08_71\n",
      "Saved (77 / 92): 1_EL_18.09.2023-15-00-34_unknownID_ASU Minisample_07_68\n",
      "Saved (78 / 92): 0_EL_18.09.2023-14-45-47_unknownID_ASU Minisample_09_51\n",
      "Saved (79 / 92): 1_EL_18.09.2023-14-51-50_unknownID_ASU Minisample_05_57\n",
      "Saved (80 / 92): 1176 - Ea_TC_EVA_1_Isc (EL Image)\n",
      "Saved (81 / 92): 0_EL_2x2_NQ-01_20230915_125923\n",
      "Saved (82 / 92): 3_EL_18.09.2023-15-37-22_unknownID_ASU Minisample_SHJ4_100\n",
      "Saved (83 / 92): 3_EL_18.09.2023-15-00-34_unknownID_ASU Minisample_07_68\n",
      "Saved (84 / 92): 2_EL_18.09.2023-14-45-47_unknownID_ASU Minisample_09_51\n",
      "Saved (85 / 92): 3_EL_2x2_NQ-02_20230915_130525.jpg\n",
      "Saved (86 / 92): 2_EL_2x2_NQ-01_20230915_125923\n",
      "Saved (87 / 92): 3_EL_18.09.2023-14-51-50_unknownID_ASU Minisample_05_57\n",
      "Saved (88 / 92): 3_EL_2x2_NQ-01_20230915_125923\n",
      "Saved (89 / 92): 2_EL_18.09.2023-14-55-55_unknownID_ASU Minisample_06_62\n",
      "Saved (90 / 92): 1234 - Old TC for PID_Rear_4_Isc (EL Image)\n",
      "Saved (91 / 92): 0_EL_18.09.2023-14-42-47_unknownID_ASU Minisample_03_48\n",
      "Saved (92 / 92): 1_EL_18.09.2023-15-03-23_unknownID_ASU Minisample_08_71\n"
     ]
    }
   ],
   "source": [
    "i = 0\n",
    "total = len(n_masks)\n",
    "for n in n_masks:\n",
    "    i += 1\n",
    "    mask_path = os.path.join(mask_folder, f'{n}.jpg.json')\n",
    "    img_path = os.path.join(img_folder, f'{n}.jpg')\n",
    "    try:\n",
    "        image = imread(img_path)\n",
    "        category_dict = load_mask(mask_path, image)\n",
    "        save_dir_busbars = os.path.join(root, 'ann_npy_split_busbars', 'original', f'{n}.npy')\n",
    "        save_dir_cracks = os.path.join(root, 'ann_npy_split_cracks', 'original', f'{n}.npy')\n",
    "        \n",
    "        busbars_mask = stack_masks(category_dict, order=[1, 0, 2, 3])\n",
    "        cracks_mask = stack_masks(category_dict, order=[2, 0, 1, 3])\n",
    "        \n",
    "        np.save(save_dir_busbars, busbars_mask)\n",
    "        np.save(save_dir_cracks, cracks_mask)\n",
    "        \n",
    "        print(f\"Saved ({i} / {total}): {n}\")\n",
    "    except Exception as e:\n",
    "        print(n)\n",
    "        print(e)\n",
    "        continue"
   ]
  }
 ],
 "metadata": {
  "kernelspec": {
   "display_name": ".venv",
   "language": "python",
   "name": "python3"
  },
  "language_info": {
   "codemirror_mode": {
    "name": "ipython",
    "version": 3
   },
   "file_extension": ".py",
   "mimetype": "text/x-python",
   "name": "python",
   "nbconvert_exporter": "python",
   "pygments_lexer": "ipython3",
   "version": "3.12.7"
  },
  "widgets": {
   "application/vnd.jupyter.widget-state+json": {
    "state": {},
    "version_major": 2,
    "version_minor": 0
   }
  }
 },
 "nbformat": 4,
 "nbformat_minor": 5
}
