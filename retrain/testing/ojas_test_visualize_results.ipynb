{
 "cells": [
  {
   "cell_type": "code",
   "execution_count": null,
   "metadata": {},
   "outputs": [],
   "source": [
    "import os\n",
    "import sys\n",
    "from pathlib import Path\n",
    "from torch.nn import DataParallel\n",
    "from torch.utils.data import Dataset, DataLoader\n",
    "import torch\n",
    "import numpy as np\n",
    "from scipy import ndimage\n",
    "import skimage\n",
    "\n",
    "import matplotlib.pyplot as plt\n",
    "import matplotlib.patches as mpatches\n",
    "from PIL import Image\n",
    "import cv2\n",
    "import functions\n",
    "from tutorials.unet_model import construct_unet"
   ]
  },
  {
   "cell_type": "code",
   "execution_count": null,
   "metadata": {},
   "outputs": [],
   "source": [
    "root = Path('/projects/wg-psel-ml/EL_images/osanghi/CornersIHDEANE')\n",
    "transformers = functions.Compose([functions.FixResize(256), functions.ToTensor(), functions.Normalize()])\n",
    "\n",
    "train_dataset = functions.SolarDataset(root, image_folder=\"img/train\", \n",
    "        mask_folder=\"ann/train\", transforms=transformers)\n",
    "\n",
    "test_dataset = functions.SolarDataset(root, image_folder=\"img/test\", \n",
    "        mask_folder=\"ann/test\", transforms=transformers)"
   ]
  },
  {
   "cell_type": "code",
   "execution_count": null,
   "metadata": {},
   "outputs": [],
   "source": [
    "device = torch.device(\"cuda:0\" if torch.cuda.is_available() else \"cpu\")\n",
    "unet = construct_unet(5)\n",
    "unet = torch.nn.DataParallel(unet)\n",
    "\n",
    "weight_path = '/projects/wg-psel-ml/EL_images/osanghi/CornersIHDEANE/checkpoints/retrain_corners_checkpoint3/epoch_30/model.pt'\n",
    "\n",
    "\"\"\"\n",
    "checkpoint = torch.load(weight_path, map_location=torch.device('cpu'))\n",
    "from collections import OrderedDict\n",
    "\n",
    "new_state_dict = OrderedDict()\n",
    "for k, v in checkpoint.items():\n",
    "    name = \"module.\" + k\n",
    "    new_state_dict[name] = v\n",
    "\n",
    "unet.load_state_dict(new_state_dict)\n",
    "\"\"\"\n",
    "\n",
    "unet.load_state_dict(torch.load(weight_path, map_location=torch.device('cpu')), strict=False)\n",
    "model = unet.module.to(device)"
   ]
  },
  {
   "cell_type": "code",
   "execution_count": null,
   "metadata": {},
   "outputs": [],
   "source": [
    "batch_size_test=1\n",
    "batch_size_train=1\n",
    "\n",
    "train_loader = DataLoader(train_dataset, batch_size=batch_size_train, shuffle=True)\n",
    "test_loader = DataLoader(test_dataset, batch_size=batch_size_test, shuffle=False)"
   ]
  },
  {
   "cell_type": "code",
   "execution_count": null,
   "metadata": {},
   "outputs": [],
   "source": [
    "category_mapping = {0: \"empty\", 1: \"dark\", 2: \"busbar\", 3: \"crack\", 4: \"corner\"}"
   ]
  },
  {
   "cell_type": "code",
   "execution_count": null,
   "metadata": {},
   "outputs": [],
   "source": [
    "def inference_and_show(idx, retrained=False):\n",
    "    img, mask = train_loader.dataset. __getitem__(idx)\n",
    "    img = img.to(device)\n",
    "    raw_img, _ = train_loader.dataset. __getraw__(idx)\n",
    "    test_res = model(img.unsqueeze(0)).detach().cpu().numpy().squeeze()#.argmax(axis = 0)\n",
    "    test_res = np.argmax(test_res, axis = 0)\n",
    "\n",
    "    mask_cpu = mask.cpu().numpy()\n",
    "\n",
    "    cmap = mpl.colormaps['viridis'].resampled(5)  # define the colormap\n",
    "    cmaplist = [cmap(i) for i in range(5)]\n",
    "\n",
    "    fig, ax = plt.subplots(ncols=3, figsize=(12,12))\n",
    "\n",
    "    im = ax[0].imshow(raw_img.convert('L'), cmap='gray', interpolation='None')\n",
    "    ax[0].axis('off')\n",
    "\n",
    "    clim = (0, 4)\n",
    "    im = ax[1].imshow(mask_cpu, cmap = 'viridis', clim=clim)\n",
    "    ax[1].axis('off')\n",
    "    ax[1].set_title(\"Ground Truth Mask\")\n",
    "\n",
    "    ax[2].imshow(test_res, cmap = 'viridis', clim = clim, interpolation='None')\n",
    "    handles, labels = ax[2].get_legend_handles_labels()\n",
    "\n",
    "    for c, classlabel in zip(cmaplist, [f'({k}) {v}' for k, v in category_mapping.items()]):\n",
    "            patch = mpatches.Patch(color=c, label=classlabel, ec='k')\n",
    "            handles.append(patch)\n",
    "    ax[2].legend(handles=handles, fontsize='x-small')\n",
    "    ax[2].axis('off')\n",
    "    if retrained:\n",
    "        ax[2].set_title(\"Retrained Model Prediction\")\n",
    "    else:\n",
    "        ax[2].set_title(\"Model Prediction\")"
   ]
  }
 ],
 "metadata": {
  "kernelspec": {
   "display_name": "Python 3",
   "language": "python",
   "name": "python3"
  },
  "language_info": {
   "name": "python"
  }
 },
 "nbformat": 4,
 "nbformat_minor": 2
}
