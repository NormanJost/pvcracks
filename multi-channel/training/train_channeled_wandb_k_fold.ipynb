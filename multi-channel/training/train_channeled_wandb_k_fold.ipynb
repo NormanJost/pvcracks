{
 "cells": [
  {
   "cell_type": "code",
   "execution_count": null,
   "metadata": {},
   "outputs": [],
   "source": [
    "import json\n",
    "import os\n",
    "import sys\n",
    "\n",
    "import matplotlib.pyplot as plt\n",
    "import numpy as np\n",
    "import torch\n",
    "from torch.optim import Adam\n",
    "from torch.utils.data import DataLoader\n",
    "from tqdm import tqdm\n",
    "from sklearn.model_selection import KFold\n",
    "from sklearn.model_selection import train_test_split\n",
    "\n",
    "import wandb\n",
    "\n",
    "# pv_vision_dir = os.path.join(Path.home(), 'pv-vision')\n",
    "pv_vision_dir = os.path.join(\"/home/eccoope\", \"pv-vision\")\n",
    "# functions_dir = os.path.join(Path.home(), 'el_img_cracks_ec', 'scripts')\n",
    "functions_dir = os.path.join(\"/home/eccoope\", \"el_img_cracks_ec\", \"scripts\")\n",
    "\n",
    "sys.path.append(pv_vision_dir)\n",
    "sys.path.append(functions_dir)\n",
    "\n",
    "# ojas_functions_dir = os.path.join(Path.home(), 'pvcracks/retrain/')\n",
    "ojas_functions_dir = \"/Users/ojas/Desktop/saj/SANDIA/pvcracks/retrain/\"\n",
    "sys.path.append(ojas_functions_dir)\n",
    "\n",
    "import functions\n",
    "from tutorials.unet_model import construct_unet"
   ]
  },
  {
   "cell_type": "code",
   "execution_count": 2,
   "metadata": {},
   "outputs": [],
   "source": [
    "root = \"/Users/ojas/Desktop/saj/SANDIA/pvcracks_data/Channeled_Combined_CWRU_LBNL_ASU_No_Empty/\"\n",
    "weight_path = \"/Users/ojas/Desktop/saj/SANDIA/pvcracks_data/pv-vision_model.pt\"\n",
    "\n",
    "checkpoint_name = \"wandb_\" + root.split(\"/\")[-2]"
   ]
  },
  {
   "cell_type": "code",
   "execution_count": 3,
   "metadata": {},
   "outputs": [],
   "source": [
    "category_mapping = {0: \"dark\", 1: \"busbar\", 2: \"crack\", 3: \"non-cell\"}"
   ]
  },
  {
   "cell_type": "code",
   "execution_count": 4,
   "metadata": {},
   "outputs": [],
   "source": [
    "def dice_coefficient(pred, target, epsilon=1e-6):\n",
    "    intersection = (pred * target).sum()\n",
    "    union = pred.sum() + target.sum()\n",
    "    dice = (2.0 * intersection + epsilon) / (union + epsilon)\n",
    "    return dice\n",
    "\n",
    "\n",
    "def iou_score(pred, target, epsilon=1e-6):\n",
    "    intersection = (pred * target).sum()\n",
    "    union = pred.sum() + target.sum() - intersection\n",
    "    iou = (intersection + epsilon) / (union + epsilon)\n",
    "    return iou"
   ]
  },
  {
   "cell_type": "code",
   "execution_count": 5,
   "metadata": {},
   "outputs": [],
   "source": [
    "def load_dataset(root):\n",
    "    transformers = functions.Compose(\n",
    "        [functions.ChanneledFixResize(256), functions.ToTensor(), functions.Normalize()]\n",
    "    )\n",
    "\n",
    "    full_dataset = functions.SolarDataset(\n",
    "        root, image_folder=\"img/all\", mask_folder=\"ann/all\", transforms=transformers\n",
    "    )\n",
    "\n",
    "    return full_dataset"
   ]
  },
  {
   "cell_type": "code",
   "execution_count": 6,
   "metadata": {},
   "outputs": [],
   "source": [
    "def load_device_and_model(weight_path):\n",
    "    # device = torch.device(\"cuda:0\" if torch.cuda.is_available() else \"cpu\")\n",
    "    device = torch.device(\"mps\")\n",
    "    unet = construct_unet(len(category_mapping))\n",
    "    unet = torch.nn.DataParallel(unet)\n",
    "\n",
    "    model = unet.module.to(device)\n",
    "\n",
    "    return device, model"
   ]
  },
  {
   "cell_type": "code",
   "execution_count": 7,
   "metadata": {},
   "outputs": [],
   "source": [
    "def get_save_dir(base_dir, checkpoint_name):\n",
    "    checkpoint_dir = base_dir + \"/checkpoints/\"\n",
    "    folders = [folder for folder in os.listdir(checkpoint_dir)]\n",
    "\n",
    "    max_number = 0\n",
    "    for folder in folders:\n",
    "        number = int(folder[-1])\n",
    "        if number > max_number:\n",
    "            max_number = number\n",
    "\n",
    "    new_folder_name = f\"{checkpoint_name}{max_number + 1}\"\n",
    "    new_folder_path = os.path.join(checkpoint_dir, new_folder_name)\n",
    "\n",
    "    os.makedirs(new_folder_path, exist_ok=True)\n",
    "\n",
    "    return new_folder_path"
   ]
  },
  {
   "cell_type": "code",
   "execution_count": 8,
   "metadata": {},
   "outputs": [],
   "source": [
    "full_dataset = load_dataset(root)"
   ]
  },
  {
   "cell_type": "code",
   "execution_count": null,
   "metadata": {},
   "outputs": [],
   "source": [
    "trainval_set, test_set = train_test_split(full_dataset, test_size=0.1, random_state=42)"
   ]
  },
  {
   "cell_type": "markdown",
   "metadata": {},
   "source": [
    " # Training"
   ]
  },
  {
   "cell_type": "code",
   "execution_count": 10,
   "metadata": {},
   "outputs": [
    {
     "name": "stderr",
     "output_type": "stream",
     "text": [
      "\u001b[34m\u001b[1mwandb\u001b[0m: Currently logged in as: \u001b[33mojas-sanghi\u001b[0m (\u001b[33mojas-sanghi-university-of-arizona\u001b[0m) to \u001b[32mhttps://api.wandb.ai\u001b[0m. Use \u001b[1m`wandb login --relogin`\u001b[0m to force relogin\n"
     ]
    },
    {
     "data": {
      "text/html": [
       "Tracking run with wandb version 0.19.11"
      ],
      "text/plain": [
       "<IPython.core.display.HTML object>"
      ]
     },
     "metadata": {},
     "output_type": "display_data"
    },
    {
     "data": {
      "text/html": [
       "Run data is saved locally in <code>/Users/ojas/Desktop/saj/SANDIA/pvcracks/retrain/training/wandb/run-20250604_234238-11aokmzi</code>"
      ],
      "text/plain": [
       "<IPython.core.display.HTML object>"
      ]
     },
     "metadata": {},
     "output_type": "display_data"
    },
    {
     "data": {
      "text/html": [
       "Syncing run <strong><a href='https://wandb.ai/ojas-sanghi-university-of-arizona/pvcracks/runs/11aokmzi' target=\"_blank\">ethereal-flower-236</a></strong> to <a href='https://wandb.ai/ojas-sanghi-university-of-arizona/pvcracks' target=\"_blank\">Weights & Biases</a> (<a href='https://wandb.me/developer-guide' target=\"_blank\">docs</a>)<br>"
      ],
      "text/plain": [
       "<IPython.core.display.HTML object>"
      ]
     },
     "metadata": {},
     "output_type": "display_data"
    },
    {
     "data": {
      "text/html": [
       " View project at <a href='https://wandb.ai/ojas-sanghi-university-of-arizona/pvcracks' target=\"_blank\">https://wandb.ai/ojas-sanghi-university-of-arizona/pvcracks</a>"
      ],
      "text/plain": [
       "<IPython.core.display.HTML object>"
      ]
     },
     "metadata": {},
     "output_type": "display_data"
    },
    {
     "data": {
      "text/html": [
       " View run at <a href='https://wandb.ai/ojas-sanghi-university-of-arizona/pvcracks/runs/11aokmzi' target=\"_blank\">https://wandb.ai/ojas-sanghi-university-of-arizona/pvcracks/runs/11aokmzi</a>"
      ],
      "text/plain": [
       "<IPython.core.display.HTML object>"
      ]
     },
     "metadata": {},
     "output_type": "display_data"
    }
   ],
   "source": [
    "save_name = \"model.pt\"\n",
    "save_dir = get_save_dir(str(root), checkpoint_name)\n",
    "os.makedirs(save_dir, exist_ok=True)\n",
    "\n",
    "original_config = {\n",
    "    \"batch_size_train\": 8,\n",
    "    \"lr\": 0.00092234,\n",
    "    \"gamma\": 0.11727,\n",
    "    \"num_epochs\": 1,\n",
    "    # constants\n",
    "    \"batch_size_val\": 8,\n",
    "    \"criterion\": torch.nn.BCEWithLogitsLoss(),\n",
    "    \"k_folds\": 5,\n",
    "    # \"lr_scheduler_step_size\": 1,\n",
    "}\n",
    "\n",
    "config_serializable = original_config.copy()\n",
    "config_serializable[\"criterion\"] = str(config_serializable[\"criterion\"])\n",
    "\n",
    "with open(os.path.join(save_dir, \"config.json\"), \"w\", encoding=\"utf-8\") as f:\n",
    "    json.dump(config_serializable, f, ensure_ascii=False, indent=4)\n",
    "\n",
    "run = wandb.init(\n",
    "    project=\"pvcracks\",\n",
    "    entity=\"ojas-sanghi-university-of-arizona\",\n",
    "    config=original_config,\n",
    ")\n",
    "config = wandb.config"
   ]
  },
  {
   "cell_type": "code",
   "execution_count": null,
   "metadata": {},
   "outputs": [
    {
     "name": "stdout",
     "output_type": "stream",
     "text": [
      "\n",
      "--- FOLD 1/5 ---\n"
     ]
    },
    {
     "name": "stderr",
     "output_type": "stream",
     "text": [
      "100%|██████████| 1/1 [03:29<00:00, 209.62s/it]\n"
     ]
    },
    {
     "name": "stdout",
     "output_type": "stream",
     "text": [
      "Fold 1 best val_loss: 0.0662, dice: 0.6982, iou: 0.6143\n",
      "\n",
      "--- FOLD 2/5 ---\n"
     ]
    },
    {
     "name": "stderr",
     "output_type": "stream",
     "text": [
      "100%|██████████| 1/1 [05:20<00:00, 320.25s/it]\n"
     ]
    },
    {
     "name": "stdout",
     "output_type": "stream",
     "text": [
      "Fold 2 best val_loss: 0.0632, dice: 0.6941, iou: 0.6113\n",
      "\n",
      "--- FOLD 3/5 ---\n"
     ]
    },
    {
     "name": "stderr",
     "output_type": "stream",
     "text": [
      "100%|██████████| 1/1 [03:35<00:00, 215.61s/it]\n"
     ]
    },
    {
     "name": "stdout",
     "output_type": "stream",
     "text": [
      "Fold 3 best val_loss: 0.0626, dice: 0.6905, iou: 0.6091\n",
      "\n",
      "--- FOLD 4/5 ---\n"
     ]
    },
    {
     "name": "stderr",
     "output_type": "stream",
     "text": [
      "100%|██████████| 1/1 [04:48<00:00, 288.26s/it]\n"
     ]
    },
    {
     "name": "stdout",
     "output_type": "stream",
     "text": [
      "Fold 4 best val_loss: 0.0721, dice: 0.6720, iou: 0.5858\n",
      "\n",
      "--- FOLD 5/5 ---\n"
     ]
    },
    {
     "name": "stderr",
     "output_type": "stream",
     "text": [
      "100%|██████████| 1/1 [04:21<00:00, 261.66s/it]"
     ]
    },
    {
     "name": "stdout",
     "output_type": "stream",
     "text": [
      "Fold 5 best val_loss: 0.0659, dice: 0.6795, iou: 0.5971\n"
     ]
    },
    {
     "name": "stderr",
     "output_type": "stream",
     "text": [
      "\n"
     ]
    }
   ],
   "source": [
    "k_folds = config.k_folds\n",
    "kfold = KFold(n_splits=k_folds, shuffle=True, random_state=42)\n",
    "\n",
    "# Lists to collect per-fold best metrics\n",
    "fold_val_losses = []\n",
    "fold_dice_scores = []\n",
    "fold_iou_scores = []\n",
    "\n",
    "\n",
    "for fold, (train_ids, val_ids) in enumerate(kfold.split(trainval_set)):\n",
    "    print(f\"\\n--- FOLD {fold + 1}/{k_folds} ---\")\n",
    "\n",
    "    train_subsampler = torch.utils.data.Subset(trainval_set, train_ids)\n",
    "    train_loader = DataLoader(\n",
    "        train_subsampler, batch_size=config.batch_size_train, shuffle=True\n",
    "    )\n",
    "    val_subsampler = torch.utils.data.Subset(trainval_set, val_ids)\n",
    "    val_loader = DataLoader(\n",
    "        val_subsampler, batch_size=config.batch_size_val, shuffle=False\n",
    "    )\n",
    "\n",
    "    # Initialize a fresh model and optimizer\n",
    "    device, model = load_device_and_model(weight_path)\n",
    "    optimizer = Adam(model.parameters(), lr=config.lr)\n",
    "    run.watch(model, log_freq=100)\n",
    "\n",
    "    best_fold_val_loss = float(\"inf\")\n",
    "    best_fold_dice = 0.0\n",
    "    best_fold_iou = 0.0\n",
    "\n",
    "    # PER-EPOCH TRAINING\n",
    "    for epoch in tqdm(range(1, config.num_epochs + 1)):\n",
    "        training_step_loss = []\n",
    "        for data, target in train_loader:\n",
    "            data, target = data.to(device), target.to(device)\n",
    "            target = target.float()\n",
    "\n",
    "            optimizer.zero_grad()\n",
    "            output = model(data)\n",
    "            training_loss = original_config[\"criterion\"](output, target)\n",
    "            training_loss.backward()\n",
    "            optimizer.step()\n",
    "\n",
    "            training_step_loss.append(training_loss.item())\n",
    "\n",
    "        val_step_loss = []\n",
    "        dice_scores = []\n",
    "        iou_scores = []\n",
    "        for data, target in val_loader:\n",
    "            data, target = data.to(device), target.to(device)\n",
    "            target = target.float()\n",
    "            output = model(data)\n",
    "\n",
    "            val_loss = original_config[\"criterion\"](output, target)\n",
    "            val_step_loss.append(val_loss.item())\n",
    "\n",
    "            # compute dice and iou\n",
    "            pred_probs = torch.sigmoid(output)\n",
    "            pred_binary = (pred_probs > 0.5).float()\n",
    "            for i in range(pred_binary.size(1)):\n",
    "                dice = dice_coefficient(pred_binary[:, i], target[:, i])\n",
    "                iou = iou_score(pred_binary[:, i], target[:, i])\n",
    "                dice_scores.append(dice.item())\n",
    "                iou_scores.append(iou.item())\n",
    "\n",
    "        epoch_train_loss = np.mean(training_step_loss)\n",
    "        epoch_val_loss = np.mean(val_step_loss)\n",
    "        epoch_avg_dice = np.mean(dice_scores)\n",
    "        epoch_avg_iou = np.mean(iou_scores)\n",
    "\n",
    "        # Log per-fold, per-epoch to W&B\n",
    "        run.log(\n",
    "            {\n",
    "                f\"fold{fold + 1}/train_loss\": epoch_train_loss,\n",
    "                f\"fold{fold + 1}/val_loss\": epoch_val_loss,\n",
    "                f\"fold{fold + 1}/dice\": epoch_avg_dice,\n",
    "                f\"fold{fold + 1}/iou\": epoch_avg_iou,\n",
    "            },\n",
    "            step=epoch,\n",
    "        )\n",
    "        # NOTE THIS OLD CHECK THE SCRIPT!\n",
    "\n",
    "        # Keep best for this fold\n",
    "        if epoch_val_loss < best_fold_val_loss:\n",
    "            best_fold_val_loss = epoch_val_loss\n",
    "            best_fold_dice = epoch_avg_dice\n",
    "            best_fold_iou = epoch_avg_iou\n",
    "\n",
    "    print(\n",
    "        f\"Fold {fold + 1} best val_loss: {best_fold_val_loss:.4f}, dice: {best_fold_dice:.4f}, iou: {best_fold_iou:.4f}\"\n",
    "    )\n",
    "\n",
    "    fold_val_losses.append(best_fold_val_loss)\n",
    "    fold_dice_scores.append(best_fold_dice)\n",
    "    fold_iou_scores.append(best_fold_iou)"
   ]
  },
  {
   "cell_type": "code",
   "execution_count": null,
   "metadata": {},
   "outputs": [
    {
     "name": "stdout",
     "output_type": "stream",
     "text": [
      "Average val_loss: 0.0660, dice: 0.6869, iou: 0.6035\n"
     ]
    }
   ],
   "source": [
    "# ========== AGGREGATE RESULTS ACROSS FOLDS ==========\n",
    "\n",
    "avg_val_loss = np.mean(fold_val_losses)\n",
    "avg_dice = np.mean(fold_dice_scores)\n",
    "avg_iou = np.mean(fold_iou_scores)\n",
    "\n",
    "# Log the averages to W&B summary for sweep optimization\n",
    "wandb.log(\n",
    "    {\n",
    "        \"avg_val_loss\": avg_val_loss,\n",
    "        \"avg_dice\": avg_dice,\n",
    "        \"avg_iou\": avg_iou,\n",
    "    }\n",
    ")\n",
    "wandb.run.summary[\"avg_val_loss\"] = avg_val_loss\n",
    "\n",
    "print(f\"Average val_loss: {avg_val_loss:.4f}, dice: {avg_dice:.4f}, iou: {avg_iou:.4f}\")"
   ]
  },
  {
   "cell_type": "markdown",
   "metadata": {},
   "source": [
    " ---"
   ]
  },
  {
   "cell_type": "code",
   "execution_count": 13,
   "metadata": {},
   "outputs": [
    {
     "data": {
      "text/html": [],
      "text/plain": [
       "<IPython.core.display.HTML object>"
      ]
     },
     "metadata": {},
     "output_type": "display_data"
    },
    {
     "data": {
      "text/html": [
       "<br>    <style><br>        .wandb-row {<br>            display: flex;<br>            flex-direction: row;<br>            flex-wrap: wrap;<br>            justify-content: flex-start;<br>            width: 100%;<br>        }<br>        .wandb-col {<br>            display: flex;<br>            flex-direction: column;<br>            flex-basis: 100%;<br>            flex: 1;<br>            padding: 10px;<br>        }<br>    </style><br><div class=\"wandb-row\"><div class=\"wandb-col\"><h3>Run history:</h3><br/><table class=\"wandb\"><tr><td>avg_dice</td><td>▁</td></tr><tr><td>avg_iou</td><td>▁</td></tr><tr><td>avg_val_loss</td><td>▁</td></tr><tr><td>fold1/dice</td><td>▁</td></tr><tr><td>fold1/iou</td><td>▁</td></tr><tr><td>fold1/train_loss</td><td>▁</td></tr><tr><td>fold1/val_loss</td><td>▁</td></tr><tr><td>fold2/dice</td><td>▁</td></tr><tr><td>fold2/iou</td><td>▁</td></tr><tr><td>fold2/train_loss</td><td>▁</td></tr><tr><td>fold2/val_loss</td><td>▁</td></tr><tr><td>fold3/dice</td><td>▁</td></tr><tr><td>fold3/iou</td><td>▁</td></tr><tr><td>fold3/train_loss</td><td>▁</td></tr><tr><td>fold3/val_loss</td><td>▁</td></tr><tr><td>fold4/dice</td><td>▁</td></tr><tr><td>fold4/iou</td><td>▁</td></tr><tr><td>fold4/train_loss</td><td>▁</td></tr><tr><td>fold4/val_loss</td><td>▁</td></tr><tr><td>fold5/dice</td><td>▁</td></tr><tr><td>fold5/iou</td><td>▁</td></tr><tr><td>fold5/train_loss</td><td>▁</td></tr><tr><td>fold5/val_loss</td><td>▁</td></tr></table><br/></div><div class=\"wandb-col\"><h3>Run summary:</h3><br/><table class=\"wandb\"><tr><td>avg_dice</td><td>0.68686</td></tr><tr><td>avg_iou</td><td>0.60353</td></tr><tr><td>avg_val_loss</td><td>0.06599</td></tr><tr><td>fold1/dice</td><td>0.6982</td></tr><tr><td>fold1/iou</td><td>0.61434</td></tr><tr><td>fold1/train_loss</td><td>0.18958</td></tr><tr><td>fold1/val_loss</td><td>0.06618</td></tr><tr><td>fold2/dice</td><td>0.69411</td></tr><tr><td>fold2/iou</td><td>0.61126</td></tr><tr><td>fold2/train_loss</td><td>0.15995</td></tr><tr><td>fold2/val_loss</td><td>0.06319</td></tr><tr><td>fold3/dice</td><td>0.69053</td></tr><tr><td>fold3/iou</td><td>0.60912</td></tr><tr><td>fold3/train_loss</td><td>0.17228</td></tr><tr><td>fold3/val_loss</td><td>0.06255</td></tr><tr><td>fold4/dice</td><td>0.67197</td></tr><tr><td>fold4/iou</td><td>0.58578</td></tr><tr><td>fold4/train_loss</td><td>0.18638</td></tr><tr><td>fold4/val_loss</td><td>0.07212</td></tr><tr><td>fold5/dice</td><td>0.67947</td></tr><tr><td>fold5/iou</td><td>0.59712</td></tr><tr><td>fold5/train_loss</td><td>0.1884</td></tr><tr><td>fold5/val_loss</td><td>0.06592</td></tr></table><br/></div></div>"
      ],
      "text/plain": [
       "<IPython.core.display.HTML object>"
      ]
     },
     "metadata": {},
     "output_type": "display_data"
    },
    {
     "data": {
      "text/html": [
       " View run <strong style=\"color:#cdcd00\">ethereal-flower-236</strong> at: <a href='https://wandb.ai/ojas-sanghi-university-of-arizona/pvcracks/runs/11aokmzi' target=\"_blank\">https://wandb.ai/ojas-sanghi-university-of-arizona/pvcracks/runs/11aokmzi</a><br> View project at: <a href='https://wandb.ai/ojas-sanghi-university-of-arizona/pvcracks' target=\"_blank\">https://wandb.ai/ojas-sanghi-university-of-arizona/pvcracks</a><br>Synced 5 W&B file(s), 0 media file(s), 0 artifact file(s) and 0 other file(s)"
      ],
      "text/plain": [
       "<IPython.core.display.HTML object>"
      ]
     },
     "metadata": {},
     "output_type": "display_data"
    },
    {
     "data": {
      "text/html": [
       "Find logs at: <code>./wandb/run-20250604_234238-11aokmzi/logs</code>"
      ],
      "text/plain": [
       "<IPython.core.display.HTML object>"
      ]
     },
     "metadata": {},
     "output_type": "display_data"
    }
   ],
   "source": [
    "run.finish()"
   ]
  },
  {
   "cell_type": "markdown",
   "metadata": {},
   "source": [
    "---"
   ]
  }
 ],
 "metadata": {
  "kernelspec": {
   "display_name": ".venv",
   "language": "python",
   "name": "python3"
  },
  "language_info": {
   "codemirror_mode": {
    "name": "ipython",
    "version": 3
   },
   "file_extension": ".py",
   "mimetype": "text/x-python",
   "name": "python",
   "nbconvert_exporter": "python",
   "pygments_lexer": "ipython3",
   "version": "3.12.9"
  }
 },
 "nbformat": 4,
 "nbformat_minor": 2
}
