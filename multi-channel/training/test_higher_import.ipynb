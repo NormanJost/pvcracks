{
 "cells": [
  {
   "cell_type": "code",
   "execution_count": null,
   "id": "765b00bd",
   "metadata": {},
   "outputs": [],
   "source": [
    "from multi_channel import unet_model"
   ]
  },
  {
   "cell_type": "code",
   "execution_count": null,
   "id": "efa95549",
   "metadata": {},
   "outputs": [],
   "source": [
    "from testing"
   ]
  }
 ],
 "metadata": {
  "kernelspec": {
   "display_name": "pvcracks (3.12.9)",
   "language": "python",
   "name": "python3"
  },
  "language_info": {
   "name": "python",
   "version": "3.12.9"
  }
 },
 "nbformat": 4,
 "nbformat_minor": 5
}
